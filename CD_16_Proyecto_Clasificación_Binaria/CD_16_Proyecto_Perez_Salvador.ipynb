{
 "cells": [
  {
   "cell_type": "markdown",
   "metadata": {},
   "source": [
    "# CD-Proyecto de clasificación binaria"
   ]
  },
  {
   "cell_type": "markdown",
   "metadata": {},
   "source": [
    "### Nombre: Salvador J. Pérez "
   ]
  },
  {
   "cell_type": "markdown",
   "metadata": {},
   "source": [
    "Two datasets are provided.  the original dataset, in the form provided\n",
    "by Prof. Hofmann, contains categorical/symbolic attributes and\n",
    "is in the file \"german.data\".   \n",
    " \n",
    "For algorithms that need numerical attributes, Strathclyde University \n",
    "produced the file \"german.data-numeric\".  This file has been edited \n",
    "and several indicator variables added to make it suitable for \n",
    "algorithms which cannot cope with categorical variables.   Several\n",
    "attributes that are ordered categorical (such as attribute 17) have\n",
    "been coded as integer.    This was the form used by StatLog.\n",
    "\n",
    "Objective of Analysis:\n",
    "Minimization of risk and maximization of profit on behalf of the bank.\n",
    "\n",
    "To minimize loss from the bank’s perspective, the bank needs a decision rule regarding who to give approval of the loan and who not to. An applicant’s demographic and socio-economic profiles are considered by loan managers before a decision is taken regarding his/her loan application. The German Credit Data contains data on 20 variables and the classification whether an applicant is considered a Good or a Bad credit risk for 1000 loan applicants.\n"
   ]
  },
  {
   "cell_type": "code",
   "execution_count": 421,
   "metadata": {},
   "outputs": [],
   "source": [
    "import matplotlib.pyplot as plt\n",
    "import pandas as pd\n",
    "import numpy as np"
   ]
  },
  {
   "cell_type": "markdown",
   "metadata": {},
   "source": [
    "## 1. Obtener los datos"
   ]
  },
  {
   "cell_type": "code",
   "execution_count": 422,
   "metadata": {},
   "outputs": [
    {
     "data": {
      "text/html": [
       "<div>\n",
       "<style scoped>\n",
       "    .dataframe tbody tr th:only-of-type {\n",
       "        vertical-align: middle;\n",
       "    }\n",
       "\n",
       "    .dataframe tbody tr th {\n",
       "        vertical-align: top;\n",
       "    }\n",
       "\n",
       "    .dataframe thead th {\n",
       "        text-align: right;\n",
       "    }\n",
       "</style>\n",
       "<table border=\"1\" class=\"dataframe\">\n",
       "  <thead>\n",
       "    <tr style=\"text-align: right;\">\n",
       "      <th></th>\n",
       "      <th>0</th>\n",
       "      <th>1</th>\n",
       "      <th>2</th>\n",
       "      <th>3</th>\n",
       "      <th>4</th>\n",
       "      <th>5</th>\n",
       "      <th>6</th>\n",
       "      <th>7</th>\n",
       "      <th>8</th>\n",
       "      <th>9</th>\n",
       "      <th>...</th>\n",
       "      <th>11</th>\n",
       "      <th>12</th>\n",
       "      <th>13</th>\n",
       "      <th>14</th>\n",
       "      <th>15</th>\n",
       "      <th>16</th>\n",
       "      <th>17</th>\n",
       "      <th>18</th>\n",
       "      <th>19</th>\n",
       "      <th>20</th>\n",
       "    </tr>\n",
       "  </thead>\n",
       "  <tbody>\n",
       "    <tr>\n",
       "      <th>0</th>\n",
       "      <td>A11</td>\n",
       "      <td>6</td>\n",
       "      <td>A34</td>\n",
       "      <td>A43</td>\n",
       "      <td>1169</td>\n",
       "      <td>A65</td>\n",
       "      <td>A75</td>\n",
       "      <td>4</td>\n",
       "      <td>A93</td>\n",
       "      <td>A101</td>\n",
       "      <td>...</td>\n",
       "      <td>A121</td>\n",
       "      <td>67</td>\n",
       "      <td>A143</td>\n",
       "      <td>A152</td>\n",
       "      <td>2</td>\n",
       "      <td>A173</td>\n",
       "      <td>1</td>\n",
       "      <td>A192</td>\n",
       "      <td>A201</td>\n",
       "      <td>1</td>\n",
       "    </tr>\n",
       "    <tr>\n",
       "      <th>1</th>\n",
       "      <td>A12</td>\n",
       "      <td>48</td>\n",
       "      <td>A32</td>\n",
       "      <td>A43</td>\n",
       "      <td>5951</td>\n",
       "      <td>A61</td>\n",
       "      <td>A73</td>\n",
       "      <td>2</td>\n",
       "      <td>A92</td>\n",
       "      <td>A101</td>\n",
       "      <td>...</td>\n",
       "      <td>A121</td>\n",
       "      <td>22</td>\n",
       "      <td>A143</td>\n",
       "      <td>A152</td>\n",
       "      <td>1</td>\n",
       "      <td>A173</td>\n",
       "      <td>1</td>\n",
       "      <td>A191</td>\n",
       "      <td>A201</td>\n",
       "      <td>2</td>\n",
       "    </tr>\n",
       "    <tr>\n",
       "      <th>2</th>\n",
       "      <td>A14</td>\n",
       "      <td>12</td>\n",
       "      <td>A34</td>\n",
       "      <td>A46</td>\n",
       "      <td>2096</td>\n",
       "      <td>A61</td>\n",
       "      <td>A74</td>\n",
       "      <td>2</td>\n",
       "      <td>A93</td>\n",
       "      <td>A101</td>\n",
       "      <td>...</td>\n",
       "      <td>A121</td>\n",
       "      <td>49</td>\n",
       "      <td>A143</td>\n",
       "      <td>A152</td>\n",
       "      <td>1</td>\n",
       "      <td>A172</td>\n",
       "      <td>2</td>\n",
       "      <td>A191</td>\n",
       "      <td>A201</td>\n",
       "      <td>1</td>\n",
       "    </tr>\n",
       "    <tr>\n",
       "      <th>3</th>\n",
       "      <td>A11</td>\n",
       "      <td>42</td>\n",
       "      <td>A32</td>\n",
       "      <td>A42</td>\n",
       "      <td>7882</td>\n",
       "      <td>A61</td>\n",
       "      <td>A74</td>\n",
       "      <td>2</td>\n",
       "      <td>A93</td>\n",
       "      <td>A103</td>\n",
       "      <td>...</td>\n",
       "      <td>A122</td>\n",
       "      <td>45</td>\n",
       "      <td>A143</td>\n",
       "      <td>A153</td>\n",
       "      <td>1</td>\n",
       "      <td>A173</td>\n",
       "      <td>2</td>\n",
       "      <td>A191</td>\n",
       "      <td>A201</td>\n",
       "      <td>1</td>\n",
       "    </tr>\n",
       "    <tr>\n",
       "      <th>4</th>\n",
       "      <td>A11</td>\n",
       "      <td>24</td>\n",
       "      <td>A33</td>\n",
       "      <td>A40</td>\n",
       "      <td>4870</td>\n",
       "      <td>A61</td>\n",
       "      <td>A73</td>\n",
       "      <td>3</td>\n",
       "      <td>A93</td>\n",
       "      <td>A101</td>\n",
       "      <td>...</td>\n",
       "      <td>A124</td>\n",
       "      <td>53</td>\n",
       "      <td>A143</td>\n",
       "      <td>A153</td>\n",
       "      <td>2</td>\n",
       "      <td>A173</td>\n",
       "      <td>2</td>\n",
       "      <td>A191</td>\n",
       "      <td>A201</td>\n",
       "      <td>2</td>\n",
       "    </tr>\n",
       "  </tbody>\n",
       "</table>\n",
       "<p>5 rows × 21 columns</p>\n",
       "</div>"
      ],
      "text/plain": [
       "    0   1    2    3     4    5    6   7    8     9   ...    11  12    13  \\\n",
       "0  A11   6  A34  A43  1169  A65  A75   4  A93  A101  ...  A121  67  A143   \n",
       "1  A12  48  A32  A43  5951  A61  A73   2  A92  A101  ...  A121  22  A143   \n",
       "2  A14  12  A34  A46  2096  A61  A74   2  A93  A101  ...  A121  49  A143   \n",
       "3  A11  42  A32  A42  7882  A61  A74   2  A93  A103  ...  A122  45  A143   \n",
       "4  A11  24  A33  A40  4870  A61  A73   3  A93  A101  ...  A124  53  A143   \n",
       "\n",
       "     14 15    16 17    18    19 20  \n",
       "0  A152  2  A173  1  A192  A201  1  \n",
       "1  A152  1  A173  1  A191  A201  2  \n",
       "2  A152  1  A172  2  A191  A201  1  \n",
       "3  A153  1  A173  2  A191  A201  1  \n",
       "4  A153  2  A173  2  A191  A201  2  \n",
       "\n",
       "[5 rows x 21 columns]"
      ]
     },
     "execution_count": 422,
     "metadata": {},
     "output_type": "execute_result"
    }
   ],
   "source": [
    "data = pd.read_csv(\"german.data\", delimiter=' ', header = None) #Guardar el archivo .data en un dataframe\n",
    "data.head()                                                     #Mostramos el contenido \n"
   ]
  },
  {
   "cell_type": "code",
   "execution_count": 423,
   "metadata": {},
   "outputs": [
    {
     "name": "stdout",
     "output_type": "stream",
     "text": [
      "<class 'pandas.core.frame.DataFrame'>\n",
      "RangeIndex: 1000 entries, 0 to 999\n",
      "Data columns (total 21 columns):\n",
      " #   Column  Non-Null Count  Dtype \n",
      "---  ------  --------------  ----- \n",
      " 0   0       1000 non-null   object\n",
      " 1   1       1000 non-null   int64 \n",
      " 2   2       1000 non-null   object\n",
      " 3   3       1000 non-null   object\n",
      " 4   4       1000 non-null   int64 \n",
      " 5   5       1000 non-null   object\n",
      " 6   6       1000 non-null   object\n",
      " 7   7       1000 non-null   int64 \n",
      " 8   8       1000 non-null   object\n",
      " 9   9       1000 non-null   object\n",
      " 10  10      1000 non-null   int64 \n",
      " 11  11      1000 non-null   object\n",
      " 12  12      1000 non-null   int64 \n",
      " 13  13      1000 non-null   object\n",
      " 14  14      1000 non-null   object\n",
      " 15  15      1000 non-null   int64 \n",
      " 16  16      1000 non-null   object\n",
      " 17  17      1000 non-null   int64 \n",
      " 18  18      1000 non-null   object\n",
      " 19  19      1000 non-null   object\n",
      " 20  20      1000 non-null   int64 \n",
      "dtypes: int64(8), object(13)\n",
      "memory usage: 164.2+ KB\n"
     ]
    }
   ],
   "source": [
    "data.info() #Mostramos las caracteristicas del dataframe "
   ]
  },
  {
   "cell_type": "code",
   "execution_count": 424,
   "metadata": {},
   "outputs": [
    {
     "data": {
      "text/html": [
       "<div>\n",
       "<style scoped>\n",
       "    .dataframe tbody tr th:only-of-type {\n",
       "        vertical-align: middle;\n",
       "    }\n",
       "\n",
       "    .dataframe tbody tr th {\n",
       "        vertical-align: top;\n",
       "    }\n",
       "\n",
       "    .dataframe thead th {\n",
       "        text-align: right;\n",
       "    }\n",
       "</style>\n",
       "<table border=\"1\" class=\"dataframe\">\n",
       "  <thead>\n",
       "    <tr style=\"text-align: right;\">\n",
       "      <th></th>\n",
       "      <th>A1</th>\n",
       "      <th>A2</th>\n",
       "      <th>A3</th>\n",
       "      <th>A4</th>\n",
       "      <th>A5</th>\n",
       "      <th>A6</th>\n",
       "      <th>A7</th>\n",
       "      <th>A8</th>\n",
       "      <th>A9</th>\n",
       "      <th>A10</th>\n",
       "      <th>...</th>\n",
       "      <th>A12</th>\n",
       "      <th>A13</th>\n",
       "      <th>A14</th>\n",
       "      <th>A15</th>\n",
       "      <th>A16</th>\n",
       "      <th>A17</th>\n",
       "      <th>A18</th>\n",
       "      <th>A19</th>\n",
       "      <th>A20</th>\n",
       "      <th>A21</th>\n",
       "    </tr>\n",
       "  </thead>\n",
       "  <tbody>\n",
       "    <tr>\n",
       "      <th>0</th>\n",
       "      <td>A11</td>\n",
       "      <td>6</td>\n",
       "      <td>A34</td>\n",
       "      <td>A43</td>\n",
       "      <td>1169</td>\n",
       "      <td>A65</td>\n",
       "      <td>A75</td>\n",
       "      <td>4</td>\n",
       "      <td>A93</td>\n",
       "      <td>A101</td>\n",
       "      <td>...</td>\n",
       "      <td>A121</td>\n",
       "      <td>67</td>\n",
       "      <td>A143</td>\n",
       "      <td>A152</td>\n",
       "      <td>2</td>\n",
       "      <td>A173</td>\n",
       "      <td>1</td>\n",
       "      <td>A192</td>\n",
       "      <td>A201</td>\n",
       "      <td>1</td>\n",
       "    </tr>\n",
       "    <tr>\n",
       "      <th>1</th>\n",
       "      <td>A12</td>\n",
       "      <td>48</td>\n",
       "      <td>A32</td>\n",
       "      <td>A43</td>\n",
       "      <td>5951</td>\n",
       "      <td>A61</td>\n",
       "      <td>A73</td>\n",
       "      <td>2</td>\n",
       "      <td>A92</td>\n",
       "      <td>A101</td>\n",
       "      <td>...</td>\n",
       "      <td>A121</td>\n",
       "      <td>22</td>\n",
       "      <td>A143</td>\n",
       "      <td>A152</td>\n",
       "      <td>1</td>\n",
       "      <td>A173</td>\n",
       "      <td>1</td>\n",
       "      <td>A191</td>\n",
       "      <td>A201</td>\n",
       "      <td>2</td>\n",
       "    </tr>\n",
       "    <tr>\n",
       "      <th>2</th>\n",
       "      <td>A14</td>\n",
       "      <td>12</td>\n",
       "      <td>A34</td>\n",
       "      <td>A46</td>\n",
       "      <td>2096</td>\n",
       "      <td>A61</td>\n",
       "      <td>A74</td>\n",
       "      <td>2</td>\n",
       "      <td>A93</td>\n",
       "      <td>A101</td>\n",
       "      <td>...</td>\n",
       "      <td>A121</td>\n",
       "      <td>49</td>\n",
       "      <td>A143</td>\n",
       "      <td>A152</td>\n",
       "      <td>1</td>\n",
       "      <td>A172</td>\n",
       "      <td>2</td>\n",
       "      <td>A191</td>\n",
       "      <td>A201</td>\n",
       "      <td>1</td>\n",
       "    </tr>\n",
       "  </tbody>\n",
       "</table>\n",
       "<p>3 rows × 21 columns</p>\n",
       "</div>"
      ],
      "text/plain": [
       "    A1  A2   A3   A4    A5   A6   A7  A8   A9   A10  ...   A12 A13   A14  \\\n",
       "0  A11   6  A34  A43  1169  A65  A75   4  A93  A101  ...  A121  67  A143   \n",
       "1  A12  48  A32  A43  5951  A61  A73   2  A92  A101  ...  A121  22  A143   \n",
       "2  A14  12  A34  A46  2096  A61  A74   2  A93  A101  ...  A121  49  A143   \n",
       "\n",
       "    A15 A16   A17 A18   A19   A20 A21  \n",
       "0  A152   2  A173   1  A192  A201   1  \n",
       "1  A152   1  A173   1  A191  A201   2  \n",
       "2  A152   1  A172   2  A191  A201   1  \n",
       "\n",
       "[3 rows x 21 columns]"
      ]
     },
     "execution_count": 424,
     "metadata": {},
     "output_type": "execute_result"
    }
   ],
   "source": [
    "#Agregamos nombres a las columnas\n",
    "name = []\n",
    "for col in data.columns:\n",
    "    num = col + 1\n",
    "    name.append('A' + str(num))\n",
    "data.columns = name\n",
    "data.head(3)"
   ]
  },
  {
   "cell_type": "code",
   "execution_count": 425,
   "metadata": {},
   "outputs": [
    {
     "data": {
      "text/html": [
       "<div>\n",
       "<style scoped>\n",
       "    .dataframe tbody tr th:only-of-type {\n",
       "        vertical-align: middle;\n",
       "    }\n",
       "\n",
       "    .dataframe tbody tr th {\n",
       "        vertical-align: top;\n",
       "    }\n",
       "\n",
       "    .dataframe thead th {\n",
       "        text-align: right;\n",
       "    }\n",
       "</style>\n",
       "<table border=\"1\" class=\"dataframe\">\n",
       "  <thead>\n",
       "    <tr style=\"text-align: right;\">\n",
       "      <th></th>\n",
       "      <th>0</th>\n",
       "      <th>1</th>\n",
       "      <th>2</th>\n",
       "      <th>3</th>\n",
       "      <th>4</th>\n",
       "      <th>5</th>\n",
       "      <th>6</th>\n",
       "      <th>7</th>\n",
       "      <th>8</th>\n",
       "      <th>9</th>\n",
       "      <th>...</th>\n",
       "      <th>15</th>\n",
       "      <th>16</th>\n",
       "      <th>17</th>\n",
       "      <th>18</th>\n",
       "      <th>19</th>\n",
       "      <th>20</th>\n",
       "      <th>21</th>\n",
       "      <th>22</th>\n",
       "      <th>23</th>\n",
       "      <th>24</th>\n",
       "    </tr>\n",
       "  </thead>\n",
       "  <tbody>\n",
       "    <tr>\n",
       "      <th>0</th>\n",
       "      <td>1</td>\n",
       "      <td>6</td>\n",
       "      <td>4</td>\n",
       "      <td>12</td>\n",
       "      <td>5</td>\n",
       "      <td>5</td>\n",
       "      <td>3</td>\n",
       "      <td>4</td>\n",
       "      <td>1</td>\n",
       "      <td>67</td>\n",
       "      <td>...</td>\n",
       "      <td>0</td>\n",
       "      <td>0</td>\n",
       "      <td>1</td>\n",
       "      <td>0</td>\n",
       "      <td>0</td>\n",
       "      <td>1</td>\n",
       "      <td>0</td>\n",
       "      <td>0</td>\n",
       "      <td>1</td>\n",
       "      <td>1</td>\n",
       "    </tr>\n",
       "    <tr>\n",
       "      <th>1</th>\n",
       "      <td>2</td>\n",
       "      <td>48</td>\n",
       "      <td>2</td>\n",
       "      <td>60</td>\n",
       "      <td>1</td>\n",
       "      <td>3</td>\n",
       "      <td>2</td>\n",
       "      <td>2</td>\n",
       "      <td>1</td>\n",
       "      <td>22</td>\n",
       "      <td>...</td>\n",
       "      <td>0</td>\n",
       "      <td>0</td>\n",
       "      <td>1</td>\n",
       "      <td>0</td>\n",
       "      <td>0</td>\n",
       "      <td>1</td>\n",
       "      <td>0</td>\n",
       "      <td>0</td>\n",
       "      <td>1</td>\n",
       "      <td>2</td>\n",
       "    </tr>\n",
       "    <tr>\n",
       "      <th>2</th>\n",
       "      <td>4</td>\n",
       "      <td>12</td>\n",
       "      <td>4</td>\n",
       "      <td>21</td>\n",
       "      <td>1</td>\n",
       "      <td>4</td>\n",
       "      <td>3</td>\n",
       "      <td>3</td>\n",
       "      <td>1</td>\n",
       "      <td>49</td>\n",
       "      <td>...</td>\n",
       "      <td>0</td>\n",
       "      <td>0</td>\n",
       "      <td>1</td>\n",
       "      <td>0</td>\n",
       "      <td>0</td>\n",
       "      <td>1</td>\n",
       "      <td>0</td>\n",
       "      <td>1</td>\n",
       "      <td>0</td>\n",
       "      <td>1</td>\n",
       "    </tr>\n",
       "    <tr>\n",
       "      <th>3</th>\n",
       "      <td>1</td>\n",
       "      <td>42</td>\n",
       "      <td>2</td>\n",
       "      <td>79</td>\n",
       "      <td>1</td>\n",
       "      <td>4</td>\n",
       "      <td>3</td>\n",
       "      <td>4</td>\n",
       "      <td>2</td>\n",
       "      <td>45</td>\n",
       "      <td>...</td>\n",
       "      <td>0</td>\n",
       "      <td>0</td>\n",
       "      <td>0</td>\n",
       "      <td>0</td>\n",
       "      <td>0</td>\n",
       "      <td>0</td>\n",
       "      <td>0</td>\n",
       "      <td>0</td>\n",
       "      <td>1</td>\n",
       "      <td>1</td>\n",
       "    </tr>\n",
       "    <tr>\n",
       "      <th>4</th>\n",
       "      <td>1</td>\n",
       "      <td>24</td>\n",
       "      <td>3</td>\n",
       "      <td>49</td>\n",
       "      <td>1</td>\n",
       "      <td>3</td>\n",
       "      <td>3</td>\n",
       "      <td>4</td>\n",
       "      <td>4</td>\n",
       "      <td>53</td>\n",
       "      <td>...</td>\n",
       "      <td>1</td>\n",
       "      <td>0</td>\n",
       "      <td>1</td>\n",
       "      <td>0</td>\n",
       "      <td>0</td>\n",
       "      <td>0</td>\n",
       "      <td>0</td>\n",
       "      <td>0</td>\n",
       "      <td>1</td>\n",
       "      <td>2</td>\n",
       "    </tr>\n",
       "  </tbody>\n",
       "</table>\n",
       "<p>5 rows × 25 columns</p>\n",
       "</div>"
      ],
      "text/plain": [
       "   0   1   2   3   4   5   6   7   8   9   ...  15  16  17  18  19  20  21  \\\n",
       "0   1   6   4  12   5   5   3   4   1  67  ...   0   0   1   0   0   1   0   \n",
       "1   2  48   2  60   1   3   2   2   1  22  ...   0   0   1   0   0   1   0   \n",
       "2   4  12   4  21   1   4   3   3   1  49  ...   0   0   1   0   0   1   0   \n",
       "3   1  42   2  79   1   4   3   4   2  45  ...   0   0   0   0   0   0   0   \n",
       "4   1  24   3  49   1   3   3   4   4  53  ...   1   0   1   0   0   0   0   \n",
       "\n",
       "   22  23  24  \n",
       "0   0   1   1  \n",
       "1   0   1   2  \n",
       "2   1   0   1  \n",
       "3   0   1   1  \n",
       "4   0   1   2  \n",
       "\n",
       "[5 rows x 25 columns]"
      ]
     },
     "execution_count": 425,
     "metadata": {},
     "output_type": "execute_result"
    }
   ],
   "source": [
    "data_numeric = pd.read_fwf(\"german_numeric.data\", delimiter=' ', header = None) #Guardar el archivo .data en un dataframe\n",
    "data_numeric.head()                                                             #Mostramos el dataframe"
   ]
  },
  {
   "cell_type": "code",
   "execution_count": 426,
   "metadata": {},
   "outputs": [],
   "source": [
    "#data_numeric.info()"
   ]
  },
  {
   "cell_type": "markdown",
   "metadata": {},
   "source": [
    "## 2. Procesamos los datos"
   ]
  },
  {
   "cell_type": "code",
   "execution_count": 427,
   "metadata": {},
   "outputs": [
    {
     "data": {
      "text/html": [
       "<div>\n",
       "<style scoped>\n",
       "    .dataframe tbody tr th:only-of-type {\n",
       "        vertical-align: middle;\n",
       "    }\n",
       "\n",
       "    .dataframe tbody tr th {\n",
       "        vertical-align: top;\n",
       "    }\n",
       "\n",
       "    .dataframe thead th {\n",
       "        text-align: right;\n",
       "    }\n",
       "</style>\n",
       "<table border=\"1\" class=\"dataframe\">\n",
       "  <thead>\n",
       "    <tr style=\"text-align: right;\">\n",
       "      <th></th>\n",
       "      <th>A1</th>\n",
       "      <th>A2</th>\n",
       "      <th>A3</th>\n",
       "      <th>A4</th>\n",
       "      <th>A5</th>\n",
       "      <th>A6</th>\n",
       "      <th>A7</th>\n",
       "      <th>A8</th>\n",
       "      <th>A9</th>\n",
       "      <th>A10</th>\n",
       "      <th>...</th>\n",
       "      <th>A12</th>\n",
       "      <th>A13</th>\n",
       "      <th>A14</th>\n",
       "      <th>A15</th>\n",
       "      <th>A16</th>\n",
       "      <th>A17</th>\n",
       "      <th>A18</th>\n",
       "      <th>A19</th>\n",
       "      <th>A20</th>\n",
       "      <th>A21</th>\n",
       "    </tr>\n",
       "  </thead>\n",
       "  <tbody>\n",
       "    <tr>\n",
       "      <th>0</th>\n",
       "      <td>0</td>\n",
       "      <td>6</td>\n",
       "      <td>4</td>\n",
       "      <td>4</td>\n",
       "      <td>1169</td>\n",
       "      <td>4</td>\n",
       "      <td>4</td>\n",
       "      <td>4</td>\n",
       "      <td>2</td>\n",
       "      <td>0</td>\n",
       "      <td>...</td>\n",
       "      <td>0</td>\n",
       "      <td>67</td>\n",
       "      <td>2</td>\n",
       "      <td>1</td>\n",
       "      <td>2</td>\n",
       "      <td>2</td>\n",
       "      <td>1</td>\n",
       "      <td>1</td>\n",
       "      <td>0</td>\n",
       "      <td>1</td>\n",
       "    </tr>\n",
       "    <tr>\n",
       "      <th>1</th>\n",
       "      <td>1</td>\n",
       "      <td>48</td>\n",
       "      <td>2</td>\n",
       "      <td>4</td>\n",
       "      <td>5951</td>\n",
       "      <td>0</td>\n",
       "      <td>2</td>\n",
       "      <td>2</td>\n",
       "      <td>1</td>\n",
       "      <td>0</td>\n",
       "      <td>...</td>\n",
       "      <td>0</td>\n",
       "      <td>22</td>\n",
       "      <td>2</td>\n",
       "      <td>1</td>\n",
       "      <td>1</td>\n",
       "      <td>2</td>\n",
       "      <td>1</td>\n",
       "      <td>0</td>\n",
       "      <td>0</td>\n",
       "      <td>2</td>\n",
       "    </tr>\n",
       "  </tbody>\n",
       "</table>\n",
       "<p>2 rows × 21 columns</p>\n",
       "</div>"
      ],
      "text/plain": [
       "   A1  A2  A3  A4    A5  A6  A7  A8  A9  A10  ...  A12  A13  A14  A15  A16  \\\n",
       "0   0   6   4   4  1169   4   4   4   2    0  ...    0   67    2    1    2   \n",
       "1   1  48   2   4  5951   0   2   2   1    0  ...    0   22    2    1    1   \n",
       "\n",
       "   A17  A18  A19  A20  A21  \n",
       "0    2    1    1    0    1  \n",
       "1    2    1    0    0    2  \n",
       "\n",
       "[2 rows x 21 columns]"
      ]
     },
     "execution_count": 427,
     "metadata": {},
     "output_type": "execute_result"
    }
   ],
   "source": [
    "#Convertimos los datos categóricos a valores numéricos\n",
    "from sklearn.preprocessing import LabelEncoder\n",
    "from pandas.api.types import is_object_dtype\n",
    "\n",
    "label = LabelEncoder()\n",
    "\n",
    "for i in data.columns:\n",
    "    if is_object_dtype(data[i]):\n",
    "        data[i] = label.fit_transform(data[i])\n",
    "\n",
    "data = data.fillna(0)\n",
    "data.head(2)"
   ]
  },
  {
   "cell_type": "code",
   "execution_count": 428,
   "metadata": {},
   "outputs": [
    {
     "data": {
      "image/png": "[encoded data removed]",
      "text/plain": [
       "<Figure size 800x1200 with 25 Axes>"
      ]
     },
     "metadata": {},
     "output_type": "display_data"
    }
   ],
   "source": [
    "#Mostramos un histograma de los datos numéricos \n",
    "data.hist(figsize = (8,12))\n",
    "plt.show()"
   ]
  },
  {
   "cell_type": "code",
   "execution_count": 429,
   "metadata": {},
   "outputs": [
    {
     "data": {
      "image/png": "[encoded data removed]",
      "text/plain": [
       "<Figure size 1200x800 with 16 Axes>"
      ]
     },
     "metadata": {},
     "output_type": "display_data"
    }
   ],
   "source": [
    "#hacer diagrmas de correlación\n",
    "from pandas.plotting import scatter_matrix\n",
    "atributos = ['A2', 'A4', 'A5', 'A13']\n",
    "scatter_matrix(data[atributos], figsize = (12,8))\n",
    "plt.show()"
   ]
  },
  {
   "cell_type": "markdown",
   "metadata": {},
   "source": [
    "# Coeficiente de correlación Pearson"
   ]
  },
  {
   "cell_type": "code",
   "execution_count": 430,
   "metadata": {},
   "outputs": [
    {
     "data": {
      "text/html": [
       "<div>\n",
       "<style scoped>\n",
       "    .dataframe tbody tr th:only-of-type {\n",
       "        vertical-align: middle;\n",
       "    }\n",
       "\n",
       "    .dataframe tbody tr th {\n",
       "        vertical-align: top;\n",
       "    }\n",
       "\n",
       "    .dataframe thead th {\n",
       "        text-align: right;\n",
       "    }\n",
       "</style>\n",
       "<table border=\"1\" class=\"dataframe\">\n",
       "  <thead>\n",
       "    <tr style=\"text-align: right;\">\n",
       "      <th></th>\n",
       "      <th>A2</th>\n",
       "      <th>A4</th>\n",
       "      <th>A5</th>\n",
       "      <th>A13</th>\n",
       "    </tr>\n",
       "  </thead>\n",
       "  <tbody>\n",
       "    <tr>\n",
       "      <th>A2</th>\n",
       "      <td>1.00</td>\n",
       "      <td>0.10</td>\n",
       "      <td>0.62</td>\n",
       "      <td>-0.04</td>\n",
       "    </tr>\n",
       "    <tr>\n",
       "      <th>A4</th>\n",
       "      <td>0.10</td>\n",
       "      <td>1.00</td>\n",
       "      <td>-0.03</td>\n",
       "      <td>-0.03</td>\n",
       "    </tr>\n",
       "    <tr>\n",
       "      <th>A5</th>\n",
       "      <td>0.62</td>\n",
       "      <td>-0.03</td>\n",
       "      <td>1.00</td>\n",
       "      <td>0.03</td>\n",
       "    </tr>\n",
       "    <tr>\n",
       "      <th>A13</th>\n",
       "      <td>-0.04</td>\n",
       "      <td>-0.03</td>\n",
       "      <td>0.03</td>\n",
       "      <td>1.00</td>\n",
       "    </tr>\n",
       "  </tbody>\n",
       "</table>\n",
       "</div>"
      ],
      "text/plain": [
       "       A2    A4    A5   A13\n",
       "A2   1.00  0.10  0.62 -0.04\n",
       "A4   0.10  1.00 -0.03 -0.03\n",
       "A5   0.62 -0.03  1.00  0.03\n",
       "A13 -0.04 -0.03  0.03  1.00"
      ]
     },
     "execution_count": 430,
     "metadata": {},
     "output_type": "execute_result"
    }
   ],
   "source": [
    "#Matriz de correlacion numérica\n",
    "data[atributos].corr(method = 'pearson').round(2)"
   ]
  },
  {
   "cell_type": "code",
   "execution_count": 431,
   "metadata": {},
   "outputs": [
    {
     "data": {
      "image/png": "[encoded data removed]",
      "text/plain": [
       "<Figure size 480x480 with 1 Axes>"
      ]
     },
     "metadata": {},
     "output_type": "display_data"
    }
   ],
   "source": [
    "#Matriz de correlación visual\n",
    "plt.matshow(data[atributos].corr())\n",
    "plt.show()"
   ]
  },
  {
   "cell_type": "code",
   "execution_count": 432,
   "metadata": {},
   "outputs": [
    {
     "data": {
      "image/png": "[encoded data removed]",
      "text/plain": [
       "<Figure size 640x480 with 2 Axes>"
      ]
     },
     "metadata": {},
     "output_type": "display_data"
    }
   ],
   "source": [
    "import seaborn as sn\n",
    "corrMatrix = data[atributos].corr().round(2)\n",
    "sn.heatmap(corrMatrix, annot = True , cmap ='coolwarm')\n",
    "plt.show()"
   ]
  },
  {
   "cell_type": "markdown",
   "metadata": {},
   "source": [
    "# 4. Preparación de datos para el entrenamiento\n"
   ]
  },
  {
   "cell_type": "markdown",
   "metadata": {},
   "source": [
    "X: Params\n",
    "Y: Creditibily \n",
    "\n",
    "\n",
    "Attribute 3: (qualitative) Credit history.\n",
    "1. A30 : no credits taken/ all credits paid back duly\n",
    "2. A31 : all credits at this bank paid back duly\n",
    "3. A32 : existing credits paid back duly till now\n",
    "4. A33 : delay in paying off in the past\n",
    "5. A34 : critical account/\tother credits existing (not at this bank)\n"
   ]
  },
  {
   "cell_type": "code",
   "execution_count": 433,
   "metadata": {},
   "outputs": [
    {
     "data": {
      "text/html": [
       "<div>\n",
       "<style scoped>\n",
       "    .dataframe tbody tr th:only-of-type {\n",
       "        vertical-align: middle;\n",
       "    }\n",
       "\n",
       "    .dataframe tbody tr th {\n",
       "        vertical-align: top;\n",
       "    }\n",
       "\n",
       "    .dataframe thead th {\n",
       "        text-align: right;\n",
       "    }\n",
       "</style>\n",
       "<table border=\"1\" class=\"dataframe\">\n",
       "  <thead>\n",
       "    <tr style=\"text-align: right;\">\n",
       "      <th></th>\n",
       "      <th>A1</th>\n",
       "      <th>A2</th>\n",
       "      <th>A4</th>\n",
       "      <th>A5</th>\n",
       "      <th>A6</th>\n",
       "      <th>A7</th>\n",
       "      <th>A8</th>\n",
       "      <th>A9</th>\n",
       "      <th>A10</th>\n",
       "      <th>A11</th>\n",
       "      <th>A12</th>\n",
       "      <th>A13</th>\n",
       "      <th>A14</th>\n",
       "      <th>A15</th>\n",
       "      <th>A16</th>\n",
       "      <th>A17</th>\n",
       "      <th>A18</th>\n",
       "      <th>A19</th>\n",
       "      <th>A20</th>\n",
       "      <th>A21</th>\n",
       "    </tr>\n",
       "  </thead>\n",
       "  <tbody>\n",
       "    <tr>\n",
       "      <th>0</th>\n",
       "      <td>0</td>\n",
       "      <td>6</td>\n",
       "      <td>4</td>\n",
       "      <td>1169</td>\n",
       "      <td>4</td>\n",
       "      <td>4</td>\n",
       "      <td>4</td>\n",
       "      <td>2</td>\n",
       "      <td>0</td>\n",
       "      <td>4</td>\n",
       "      <td>0</td>\n",
       "      <td>67</td>\n",
       "      <td>2</td>\n",
       "      <td>1</td>\n",
       "      <td>2</td>\n",
       "      <td>2</td>\n",
       "      <td>1</td>\n",
       "      <td>1</td>\n",
       "      <td>0</td>\n",
       "      <td>1</td>\n",
       "    </tr>\n",
       "    <tr>\n",
       "      <th>1</th>\n",
       "      <td>1</td>\n",
       "      <td>48</td>\n",
       "      <td>4</td>\n",
       "      <td>5951</td>\n",
       "      <td>0</td>\n",
       "      <td>2</td>\n",
       "      <td>2</td>\n",
       "      <td>1</td>\n",
       "      <td>0</td>\n",
       "      <td>2</td>\n",
       "      <td>0</td>\n",
       "      <td>22</td>\n",
       "      <td>2</td>\n",
       "      <td>1</td>\n",
       "      <td>1</td>\n",
       "      <td>2</td>\n",
       "      <td>1</td>\n",
       "      <td>0</td>\n",
       "      <td>0</td>\n",
       "      <td>2</td>\n",
       "    </tr>\n",
       "    <tr>\n",
       "      <th>2</th>\n",
       "      <td>3</td>\n",
       "      <td>12</td>\n",
       "      <td>7</td>\n",
       "      <td>2096</td>\n",
       "      <td>0</td>\n",
       "      <td>3</td>\n",
       "      <td>2</td>\n",
       "      <td>2</td>\n",
       "      <td>0</td>\n",
       "      <td>3</td>\n",
       "      <td>0</td>\n",
       "      <td>49</td>\n",
       "      <td>2</td>\n",
       "      <td>1</td>\n",
       "      <td>1</td>\n",
       "      <td>1</td>\n",
       "      <td>2</td>\n",
       "      <td>0</td>\n",
       "      <td>0</td>\n",
       "      <td>1</td>\n",
       "    </tr>\n",
       "  </tbody>\n",
       "</table>\n",
       "</div>"
      ],
      "text/plain": [
       "   A1  A2  A4    A5  A6  A7  A8  A9  A10  A11  A12  A13  A14  A15  A16  A17  \\\n",
       "0   0   6   4  1169   4   4   4   2    0    4    0   67    2    1    2    2   \n",
       "1   1  48   4  5951   0   2   2   1    0    2    0   22    2    1    1    2   \n",
       "2   3  12   7  2096   0   3   2   2    0    3    0   49    2    1    1    1   \n",
       "\n",
       "   A18  A19  A20  A21  \n",
       "0    1    1    0    1  \n",
       "1    1    0    0    2  \n",
       "2    2    0    0    1  "
      ]
     },
     "execution_count": 433,
     "metadata": {},
     "output_type": "execute_result"
    }
   ],
   "source": [
    "#Asignamos los parametros y quitamos la variable del dataframe\n",
    "X = data.drop('A3', axis = 1)\n",
    "X.head(3)"
   ]
  },
  {
   "cell_type": "code",
   "execution_count": 434,
   "metadata": {},
   "outputs": [],
   "source": [
    "#Asignamos la variable que se va a predecir\n",
    "y = data['A3']\n"
   ]
  },
  {
   "cell_type": "code",
   "execution_count": 435,
   "metadata": {},
   "outputs": [],
   "source": [
    "# Dividir los datos para entrenamiento y prueba\n",
    "from sklearn.model_selection import train_test_split\n",
    "from sklearn.pipeline import Pipeline\n",
    "from sklearn.compose import ColumnTransformer\n",
    "from sklearn.preprocessing import StandardScaler, OneHotEncoder\n",
    "X_train, X_test, y_train, y_test = train_test_split(X, y, train_size = 0.80, random_state=45)"
   ]
  },
  {
   "cell_type": "code",
   "execution_count": 436,
   "metadata": {},
   "outputs": [
    {
     "data": {
      "text/plain": [
       "((800, 20), (200, 20), (800,), (200,))"
      ]
     },
     "execution_count": 436,
     "metadata": {},
     "output_type": "execute_result"
    }
   ],
   "source": [
    "# Revisar  el tamaño de cada muestra\n",
    "X_train.shape, X_test.shape, y_train.shape, y_test.shape"
   ]
  },
  {
   "cell_type": "code",
   "execution_count": 437,
   "metadata": {},
   "outputs": [
    {
     "data": {
      "text/plain": [
       "Index(['A1', 'A2', 'A4', 'A5', 'A6', 'A7', 'A8', 'A9', 'A10', 'A11', 'A12',\n",
       "       'A13', 'A14', 'A15', 'A16', 'A17', 'A18', 'A19', 'A20', 'A21'],\n",
       "      dtype='object')"
      ]
     },
     "execution_count": 437,
     "metadata": {},
     "output_type": "execute_result"
    }
   ],
   "source": [
    "X.columns"
   ]
  },
  {
   "cell_type": "code",
   "execution_count": 438,
   "metadata": {},
   "outputs": [],
   "source": [
    "categorical_list = ['A1', 'A6', 'A7', 'A8', 'A9', 'A10', 'A11', 'A12',\n",
    "       'A14', 'A15', 'A16', 'A17', 'A18', 'A19', 'A20', 'A21']\n",
    "numeric_list = ['A2', 'A4', 'A5', 'A13']"
   ]
  },
  {
   "cell_type": "code",
   "execution_count": 439,
   "metadata": {},
   "outputs": [],
   "source": [
    "numeric_transformer=Pipeline(steps=[('scaler', StandardScaler())])          #Normaliza las variables\n",
    "categorical_transformer = Pipeline(steps = [('onehot', OneHotEncoder())])   #vectoriza las variables categoricas"
   ]
  },
  {
   "cell_type": "code",
   "execution_count": 440,
   "metadata": {},
   "outputs": [],
   "source": [
    "transformer = ColumnTransformer([('num', numeric_transformer,numeric_list),\n",
    "                                 ('cat', categorical_transformer, categorical_list)])"
   ]
  },
  {
   "cell_type": "markdown",
   "metadata": {},
   "source": [
    "# 5. Desicion Tree Classifier"
   ]
  },
  {
   "cell_type": "code",
   "execution_count": 441,
   "metadata": {},
   "outputs": [],
   "source": [
    "# Módulos del Modelo: Arboles de decision \n",
    "from sklearn.tree import DecisionTreeClassifier, export_graphviz\n",
    "from sklearn.preprocessing import LabelEncoder\n",
    "from sklearn.metrics import accuracy_score"
   ]
  },
  {
   "cell_type": "code",
   "execution_count": 442,
   "metadata": {},
   "outputs": [],
   "source": [
    "# modelo DecisionTreeClassifier\n",
    "model = DecisionTreeClassifier(random_state=42,\n",
    "                                max_depth=4,\n",
    "                                min_samples_leaf=8)"
   ]
  },
  {
   "cell_type": "code",
   "execution_count": 443,
   "metadata": {},
   "outputs": [
    {
     "data": {
      "text/html": [
       "<style>#sk-container-id-36 {color: black;}#sk-container-id-36 pre{padding: 0;}#sk-container-id-36 div.sk-toggleable {background-color: white;}#sk-container-id-36 label.sk-toggleable__label {cursor: pointer;display: block;width: 100%;margin-bottom: 0;padding: 0.3em;box-sizing: border-box;text-align: center;}#sk-container-id-36 label.sk-toggleable__label-arrow:before {content: \"▸\";float: left;margin-right: 0.25em;color: #696969;}#sk-container-id-36 label.sk-toggleable__label-arrow:hover:before {color: black;}#sk-container-id-36 div.sk-estimator:hover label.sk-toggleable__label-arrow:before {color: black;}#sk-container-id-36 div.sk-toggleable__content {max-height: 0;max-width: 0;overflow: hidden;text-align: left;background-color: #f0f8ff;}#sk-container-id-36 div.sk-toggleable__content pre {margin: 0.2em;color: black;border-radius: 0.25em;background-color: #f0f8ff;}#sk-container-id-36 input.sk-toggleable__control:checked~div.sk-toggleable__content {max-height: 200px;max-width: 100%;overflow: auto;}#sk-container-id-36 input.sk-toggleable__control:checked~label.sk-toggleable__label-arrow:before {content: \"▾\";}#sk-container-id-36 div.sk-estimator input.sk-toggleable__control:checked~label.sk-toggleable__label {background-color: #d4ebff;}#sk-container-id-36 div.sk-label input.sk-toggleable__control:checked~label.sk-toggleable__label {background-color: #d4ebff;}#sk-container-id-36 input.sk-hidden--visually {border: 0;clip: rect(1px 1px 1px 1px);clip: rect(1px, 1px, 1px, 1px);height: 1px;margin: -1px;overflow: hidden;padding: 0;position: absolute;width: 1px;}#sk-container-id-36 div.sk-estimator {font-family: monospace;background-color: #f0f8ff;border: 1px dotted black;border-radius: 0.25em;box-sizing: border-box;margin-bottom: 0.5em;}#sk-container-id-36 div.sk-estimator:hover {background-color: #d4ebff;}#sk-container-id-36 div.sk-parallel-item::after {content: \"\";width: 100%;border-bottom: 1px solid gray;flex-grow: 1;}#sk-container-id-36 div.sk-label:hover label.sk-toggleable__label {background-color: #d4ebff;}#sk-container-id-36 div.sk-serial::before {content: \"\";position: absolute;border-left: 1px solid gray;box-sizing: border-box;top: 0;bottom: 0;left: 50%;z-index: 0;}#sk-container-id-36 div.sk-serial {display: flex;flex-direction: column;align-items: center;background-color: white;padding-right: 0.2em;padding-left: 0.2em;position: relative;}#sk-container-id-36 div.sk-item {position: relative;z-index: 1;}#sk-container-id-36 div.sk-parallel {display: flex;align-items: stretch;justify-content: center;background-color: white;position: relative;}#sk-container-id-36 div.sk-item::before, #sk-container-id-36 div.sk-parallel-item::before {content: \"\";position: absolute;border-left: 1px solid gray;box-sizing: border-box;top: 0;bottom: 0;left: 50%;z-index: -1;}#sk-container-id-36 div.sk-parallel-item {display: flex;flex-direction: column;z-index: 1;position: relative;background-color: white;}#sk-container-id-36 div.sk-parallel-item:first-child::after {align-self: flex-end;width: 50%;}#sk-container-id-36 div.sk-parallel-item:last-child::after {align-self: flex-start;width: 50%;}#sk-container-id-36 div.sk-parallel-item:only-child::after {width: 0;}#sk-container-id-36 div.sk-dashed-wrapped {border: 1px dashed gray;margin: 0 0.4em 0.5em 0.4em;box-sizing: border-box;padding-bottom: 0.4em;background-color: white;}#sk-container-id-36 div.sk-label label {font-family: monospace;font-weight: bold;display: inline-block;line-height: 1.2em;}#sk-container-id-36 div.sk-label-container {text-align: center;}#sk-container-id-36 div.sk-container {/* jupyter's `normalize.less` sets `[hidden] { display: none; }` but bootstrap.min.css set `[hidden] { display: none !important; }` so we also need the `!important` here to be able to override the default hidden behavior on the sphinx rendered scikit-learn.org. See: https://github.com/scikit-learn/scikit-learn/issues/21755 */display: inline-block !important;position: relative;}#sk-container-id-36 div.sk-text-repr-fallback {display: none;}</style><div id=\"sk-container-id-36\" class=\"sk-top-container\"><div class=\"sk-text-repr-fallback\"><pre>DecisionTreeClassifier(max_depth=4, min_samples_leaf=8, random_state=42)</pre><b>In a Jupyter environment, please rerun this cell to show the HTML representation or trust the notebook. <br />On GitHub, the HTML representation is unable to render, please try loading this page with nbviewer.org.</b></div><div class=\"sk-container\" hidden><div class=\"sk-item\"><div class=\"sk-estimator sk-toggleable\"><input class=\"sk-toggleable__control sk-hidden--visually\" id=\"sk-estimator-id-116\" type=\"checkbox\" checked><label for=\"sk-estimator-id-116\" class=\"sk-toggleable__label sk-toggleable__label-arrow\">DecisionTreeClassifier</label><div class=\"sk-toggleable__content\"><pre>DecisionTreeClassifier(max_depth=4, min_samples_leaf=8, random_state=42)</pre></div></div></div></div></div>"
      ],
      "text/plain": [
       "DecisionTreeClassifier(max_depth=4, min_samples_leaf=8, random_state=42)"
      ]
     },
     "execution_count": 443,
     "metadata": {},
     "output_type": "execute_result"
    }
   ],
   "source": [
    "#Ajustar del modelo\n",
    "model.fit(X_train, y_train)"
   ]
  },
  {
   "cell_type": "code",
   "execution_count": 444,
   "metadata": {},
   "outputs": [
    {
     "data": {
      "text/plain": [
       "array([4, 4, 2, 2, 2, 3, 2, 2, 2, 2, 4, 2, 4, 2, 3, 2, 2, 2, 2, 4, 2, 4,\n",
       "       2, 2, 2, 4, 2, 2, 2, 2, 4, 2, 4, 4, 2, 2, 4, 2, 2, 2, 3, 4, 4, 4,\n",
       "       2, 4, 2, 2, 2, 3, 4, 4, 2, 2, 4, 2, 2, 2, 4, 2, 2, 2, 2, 2, 2, 0,\n",
       "       2, 2, 2, 2, 2, 2, 3, 3, 2, 2, 4, 2, 2, 4, 2, 4, 4, 4, 2, 4, 2, 2,\n",
       "       2, 4, 4, 4, 2, 2, 2, 2, 4, 4, 2, 2, 4, 2, 2, 2, 4, 2, 4, 2, 2, 2,\n",
       "       3, 2, 4, 2, 2, 2, 2, 2, 4, 2, 2, 4, 2, 2, 4, 4, 2, 4, 2, 2, 2, 2,\n",
       "       4, 2, 2, 4, 2, 2, 4, 2, 4, 4, 2, 2, 4, 2, 4, 2, 4, 2, 2, 2, 4, 4,\n",
       "       2, 2, 4, 4, 2, 4, 2, 4, 4, 2, 2, 2, 4, 2, 4, 2, 4, 2, 2, 2, 4, 2,\n",
       "       2, 2, 4, 4, 2, 2, 2, 2, 2, 4, 2, 4, 2, 2, 2, 2, 4, 2, 4, 2, 4, 2,\n",
       "       2, 0])"
      ]
     },
     "execution_count": 444,
     "metadata": {},
     "output_type": "execute_result"
    }
   ],
   "source": [
    "y_pred = model.predict(X_test)\n",
    "y_pred"
   ]
  },
  {
   "cell_type": "code",
   "execution_count": 445,
   "metadata": {},
   "outputs": [
    {
     "data": {
      "text/plain": [
       "array([4, 4, 2, 2, 2, 0, 1, 2, 4, 2, 4, 3, 4, 2, 0, 2, 2, 2, 2, 0, 2, 1,\n",
       "       2, 3, 2, 2, 2, 2, 3, 2, 2, 2, 4, 4, 2, 2, 4, 2, 4, 3, 4, 0, 2, 3,\n",
       "       2, 3, 2, 2, 2, 3, 4, 4, 1, 2, 2, 2, 2, 2, 3, 2, 2, 2, 3, 2, 2, 4,\n",
       "       2, 2, 2, 2, 2, 2, 2, 2, 2, 1, 4, 2, 2, 4, 2, 4, 3, 0, 2, 4, 2, 2,\n",
       "       2, 3, 4, 3, 2, 2, 0, 2, 3, 2, 4, 2, 0, 1, 2, 2, 4, 2, 4, 4, 2, 2,\n",
       "       3, 2, 2, 1, 4, 2, 1, 2, 4, 2, 2, 3, 2, 2, 4, 4, 0, 4, 2, 2, 2, 4,\n",
       "       2, 0, 2, 2, 2, 2, 2, 4, 3, 0, 2, 2, 1, 2, 0, 2, 4, 2, 2, 2, 2, 3,\n",
       "       2, 2, 3, 4, 2, 4, 2, 1, 4, 2, 2, 2, 2, 2, 4, 2, 4, 1, 2, 2, 2, 2,\n",
       "       4, 2, 4, 4, 2, 2, 2, 2, 2, 4, 2, 4, 1, 4, 4, 2, 2, 2, 0, 2, 4, 2,\n",
       "       2, 0])"
      ]
     },
     "execution_count": 445,
     "metadata": {},
     "output_type": "execute_result"
    }
   ],
   "source": [
    "y_test.values"
   ]
  },
  {
   "cell_type": "code",
   "execution_count": 446,
   "metadata": {},
   "outputs": [
    {
     "data": {
      "text/plain": [
       "array([ True,  True,  True,  True,  True, False, False,  True, False,\n",
       "        True,  True, False,  True,  True, False,  True,  True,  True,\n",
       "        True, False,  True, False,  True, False,  True, False,  True,\n",
       "        True, False,  True, False,  True,  True,  True,  True,  True,\n",
       "        True,  True, False, False, False, False, False, False,  True,\n",
       "       False,  True,  True,  True,  True,  True,  True, False,  True,\n",
       "       False,  True,  True,  True, False,  True,  True,  True, False,\n",
       "        True,  True, False,  True,  True,  True,  True,  True,  True,\n",
       "       False, False,  True, False,  True,  True,  True,  True,  True,\n",
       "        True, False, False,  True,  True,  True,  True,  True, False,\n",
       "        True, False,  True,  True, False,  True, False, False, False,\n",
       "        True, False, False,  True,  True,  True,  True,  True, False,\n",
       "        True,  True,  True,  True, False, False, False,  True, False,\n",
       "        True,  True,  True,  True, False,  True,  True,  True,  True,\n",
       "       False,  True,  True,  True,  True, False, False, False,  True,\n",
       "       False,  True,  True, False, False, False, False,  True,  True,\n",
       "       False,  True, False,  True,  True,  True,  True,  True, False,\n",
       "       False,  True,  True, False,  True,  True,  True,  True, False,\n",
       "        True,  True,  True,  True, False,  True,  True,  True,  True,\n",
       "       False,  True,  True, False,  True, False,  True,  True,  True,\n",
       "        True,  True,  True,  True,  True,  True,  True,  True, False,\n",
       "       False, False,  True, False,  True, False,  True,  True,  True,\n",
       "        True,  True])"
      ]
     },
     "execution_count": 446,
     "metadata": {},
     "output_type": "execute_result"
    }
   ],
   "source": [
    "#scores\n",
    "np.equal(y_pred, y_test.values)"
   ]
  },
  {
   "cell_type": "code",
   "execution_count": 447,
   "metadata": {},
   "outputs": [
    {
     "name": "stdout",
     "output_type": "stream",
     "text": [
      "67.0 %\n"
     ]
    }
   ],
   "source": [
    "print(model.score(X_test, y_test)*100, '%' )"
   ]
  },
  {
   "cell_type": "markdown",
   "metadata": {},
   "source": [
    "### tune"
   ]
  },
  {
   "cell_type": "code",
   "execution_count": 448,
   "metadata": {},
   "outputs": [],
   "source": [
    "# Ajustar el modelo\n",
    "DT_Classifier = DecisionTreeClassifier()\n"
   ]
  },
  {
   "cell_type": "code",
   "execution_count": 449,
   "metadata": {},
   "outputs": [],
   "source": [
    "# Predicción\n",
    "modelo_DT = Pipeline ([\n",
    "    ('transformer', transformer),\n",
    "    ('DT_Classifier', DT_Classifier)\n",
    "])"
   ]
  },
  {
   "cell_type": "code",
   "execution_count": 450,
   "metadata": {},
   "outputs": [
    {
     "data": {
      "text/html": [
       "<style>#sk-container-id-37 {color: black;}#sk-container-id-37 pre{padding: 0;}#sk-container-id-37 div.sk-toggleable {background-color: white;}#sk-container-id-37 label.sk-toggleable__label {cursor: pointer;display: block;width: 100%;margin-bottom: 0;padding: 0.3em;box-sizing: border-box;text-align: center;}#sk-container-id-37 label.sk-toggleable__label-arrow:before {content: \"▸\";float: left;margin-right: 0.25em;color: #696969;}#sk-container-id-37 label.sk-toggleable__label-arrow:hover:before {color: black;}#sk-container-id-37 div.sk-estimator:hover label.sk-toggleable__label-arrow:before {color: black;}#sk-container-id-37 div.sk-toggleable__content {max-height: 0;max-width: 0;overflow: hidden;text-align: left;background-color: #f0f8ff;}#sk-container-id-37 div.sk-toggleable__content pre {margin: 0.2em;color: black;border-radius: 0.25em;background-color: #f0f8ff;}#sk-container-id-37 input.sk-toggleable__control:checked~div.sk-toggleable__content {max-height: 200px;max-width: 100%;overflow: auto;}#sk-container-id-37 input.sk-toggleable__control:checked~label.sk-toggleable__label-arrow:before {content: \"▾\";}#sk-container-id-37 div.sk-estimator input.sk-toggleable__control:checked~label.sk-toggleable__label {background-color: #d4ebff;}#sk-container-id-37 div.sk-label input.sk-toggleable__control:checked~label.sk-toggleable__label {background-color: #d4ebff;}#sk-container-id-37 input.sk-hidden--visually {border: 0;clip: rect(1px 1px 1px 1px);clip: rect(1px, 1px, 1px, 1px);height: 1px;margin: -1px;overflow: hidden;padding: 0;position: absolute;width: 1px;}#sk-container-id-37 div.sk-estimator {font-family: monospace;background-color: #f0f8ff;border: 1px dotted black;border-radius: 0.25em;box-sizing: border-box;margin-bottom: 0.5em;}#sk-container-id-37 div.sk-estimator:hover {background-color: #d4ebff;}#sk-container-id-37 div.sk-parallel-item::after {content: \"\";width: 100%;border-bottom: 1px solid gray;flex-grow: 1;}#sk-container-id-37 div.sk-label:hover label.sk-toggleable__label {background-color: #d4ebff;}#sk-container-id-37 div.sk-serial::before {content: \"\";position: absolute;border-left: 1px solid gray;box-sizing: border-box;top: 0;bottom: 0;left: 50%;z-index: 0;}#sk-container-id-37 div.sk-serial {display: flex;flex-direction: column;align-items: center;background-color: white;padding-right: 0.2em;padding-left: 0.2em;position: relative;}#sk-container-id-37 div.sk-item {position: relative;z-index: 1;}#sk-container-id-37 div.sk-parallel {display: flex;align-items: stretch;justify-content: center;background-color: white;position: relative;}#sk-container-id-37 div.sk-item::before, #sk-container-id-37 div.sk-parallel-item::before {content: \"\";position: absolute;border-left: 1px solid gray;box-sizing: border-box;top: 0;bottom: 0;left: 50%;z-index: -1;}#sk-container-id-37 div.sk-parallel-item {display: flex;flex-direction: column;z-index: 1;position: relative;background-color: white;}#sk-container-id-37 div.sk-parallel-item:first-child::after {align-self: flex-end;width: 50%;}#sk-container-id-37 div.sk-parallel-item:last-child::after {align-self: flex-start;width: 50%;}#sk-container-id-37 div.sk-parallel-item:only-child::after {width: 0;}#sk-container-id-37 div.sk-dashed-wrapped {border: 1px dashed gray;margin: 0 0.4em 0.5em 0.4em;box-sizing: border-box;padding-bottom: 0.4em;background-color: white;}#sk-container-id-37 div.sk-label label {font-family: monospace;font-weight: bold;display: inline-block;line-height: 1.2em;}#sk-container-id-37 div.sk-label-container {text-align: center;}#sk-container-id-37 div.sk-container {/* jupyter's `normalize.less` sets `[hidden] { display: none; }` but bootstrap.min.css set `[hidden] { display: none !important; }` so we also need the `!important` here to be able to override the default hidden behavior on the sphinx rendered scikit-learn.org. See: https://github.com/scikit-learn/scikit-learn/issues/21755 */display: inline-block !important;position: relative;}#sk-container-id-37 div.sk-text-repr-fallback {display: none;}</style><div id=\"sk-container-id-37\" class=\"sk-top-container\"><div class=\"sk-text-repr-fallback\"><pre>Pipeline(steps=[(&#x27;transformer&#x27;,\n",
       "                 ColumnTransformer(transformers=[(&#x27;num&#x27;,\n",
       "                                                  Pipeline(steps=[(&#x27;scaler&#x27;,\n",
       "                                                                   StandardScaler())]),\n",
       "                                                  [&#x27;A2&#x27;, &#x27;A4&#x27;, &#x27;A5&#x27;, &#x27;A13&#x27;]),\n",
       "                                                 (&#x27;cat&#x27;,\n",
       "                                                  Pipeline(steps=[(&#x27;onehot&#x27;,\n",
       "                                                                   OneHotEncoder())]),\n",
       "                                                  [&#x27;A1&#x27;, &#x27;A6&#x27;, &#x27;A7&#x27;, &#x27;A8&#x27;, &#x27;A9&#x27;,\n",
       "                                                   &#x27;A10&#x27;, &#x27;A11&#x27;, &#x27;A12&#x27;, &#x27;A14&#x27;,\n",
       "                                                   &#x27;A15&#x27;, &#x27;A16&#x27;, &#x27;A17&#x27;, &#x27;A18&#x27;,\n",
       "                                                   &#x27;A19&#x27;, &#x27;A20&#x27;, &#x27;A21&#x27;])])),\n",
       "                (&#x27;DT_Classifier&#x27;, DecisionTreeClassifier())])</pre><b>In a Jupyter environment, please rerun this cell to show the HTML representation or trust the notebook. <br />On GitHub, the HTML representation is unable to render, please try loading this page with nbviewer.org.</b></div><div class=\"sk-container\" hidden><div class=\"sk-item sk-dashed-wrapped\"><div class=\"sk-label-container\"><div class=\"sk-label sk-toggleable\"><input class=\"sk-toggleable__control sk-hidden--visually\" id=\"sk-estimator-id-117\" type=\"checkbox\" ><label for=\"sk-estimator-id-117\" class=\"sk-toggleable__label sk-toggleable__label-arrow\">Pipeline</label><div class=\"sk-toggleable__content\"><pre>Pipeline(steps=[(&#x27;transformer&#x27;,\n",
       "                 ColumnTransformer(transformers=[(&#x27;num&#x27;,\n",
       "                                                  Pipeline(steps=[(&#x27;scaler&#x27;,\n",
       "                                                                   StandardScaler())]),\n",
       "                                                  [&#x27;A2&#x27;, &#x27;A4&#x27;, &#x27;A5&#x27;, &#x27;A13&#x27;]),\n",
       "                                                 (&#x27;cat&#x27;,\n",
       "                                                  Pipeline(steps=[(&#x27;onehot&#x27;,\n",
       "                                                                   OneHotEncoder())]),\n",
       "                                                  [&#x27;A1&#x27;, &#x27;A6&#x27;, &#x27;A7&#x27;, &#x27;A8&#x27;, &#x27;A9&#x27;,\n",
       "                                                   &#x27;A10&#x27;, &#x27;A11&#x27;, &#x27;A12&#x27;, &#x27;A14&#x27;,\n",
       "                                                   &#x27;A15&#x27;, &#x27;A16&#x27;, &#x27;A17&#x27;, &#x27;A18&#x27;,\n",
       "                                                   &#x27;A19&#x27;, &#x27;A20&#x27;, &#x27;A21&#x27;])])),\n",
       "                (&#x27;DT_Classifier&#x27;, DecisionTreeClassifier())])</pre></div></div></div><div class=\"sk-serial\"><div class=\"sk-item sk-dashed-wrapped\"><div class=\"sk-label-container\"><div class=\"sk-label sk-toggleable\"><input class=\"sk-toggleable__control sk-hidden--visually\" id=\"sk-estimator-id-118\" type=\"checkbox\" ><label for=\"sk-estimator-id-118\" class=\"sk-toggleable__label sk-toggleable__label-arrow\">transformer: ColumnTransformer</label><div class=\"sk-toggleable__content\"><pre>ColumnTransformer(transformers=[(&#x27;num&#x27;,\n",
       "                                 Pipeline(steps=[(&#x27;scaler&#x27;, StandardScaler())]),\n",
       "                                 [&#x27;A2&#x27;, &#x27;A4&#x27;, &#x27;A5&#x27;, &#x27;A13&#x27;]),\n",
       "                                (&#x27;cat&#x27;,\n",
       "                                 Pipeline(steps=[(&#x27;onehot&#x27;, OneHotEncoder())]),\n",
       "                                 [&#x27;A1&#x27;, &#x27;A6&#x27;, &#x27;A7&#x27;, &#x27;A8&#x27;, &#x27;A9&#x27;, &#x27;A10&#x27;, &#x27;A11&#x27;,\n",
       "                                  &#x27;A12&#x27;, &#x27;A14&#x27;, &#x27;A15&#x27;, &#x27;A16&#x27;, &#x27;A17&#x27;, &#x27;A18&#x27;,\n",
       "                                  &#x27;A19&#x27;, &#x27;A20&#x27;, &#x27;A21&#x27;])])</pre></div></div></div><div class=\"sk-parallel\"><div class=\"sk-parallel-item\"><div class=\"sk-item\"><div class=\"sk-label-container\"><div class=\"sk-label sk-toggleable\"><input class=\"sk-toggleable__control sk-hidden--visually\" id=\"sk-estimator-id-119\" type=\"checkbox\" ><label for=\"sk-estimator-id-119\" class=\"sk-toggleable__label sk-toggleable__label-arrow\">num</label><div class=\"sk-toggleable__content\"><pre>[&#x27;A2&#x27;, &#x27;A4&#x27;, &#x27;A5&#x27;, &#x27;A13&#x27;]</pre></div></div></div><div class=\"sk-serial\"><div class=\"sk-item\"><div class=\"sk-serial\"><div class=\"sk-item\"><div class=\"sk-estimator sk-toggleable\"><input class=\"sk-toggleable__control sk-hidden--visually\" id=\"sk-estimator-id-120\" type=\"checkbox\" ><label for=\"sk-estimator-id-120\" class=\"sk-toggleable__label sk-toggleable__label-arrow\">StandardScaler</label><div class=\"sk-toggleable__content\"><pre>StandardScaler()</pre></div></div></div></div></div></div></div></div><div class=\"sk-parallel-item\"><div class=\"sk-item\"><div class=\"sk-label-container\"><div class=\"sk-label sk-toggleable\"><input class=\"sk-toggleable__control sk-hidden--visually\" id=\"sk-estimator-id-121\" type=\"checkbox\" ><label for=\"sk-estimator-id-121\" class=\"sk-toggleable__label sk-toggleable__label-arrow\">cat</label><div class=\"sk-toggleable__content\"><pre>[&#x27;A1&#x27;, &#x27;A6&#x27;, &#x27;A7&#x27;, &#x27;A8&#x27;, &#x27;A9&#x27;, &#x27;A10&#x27;, &#x27;A11&#x27;, &#x27;A12&#x27;, &#x27;A14&#x27;, &#x27;A15&#x27;, &#x27;A16&#x27;, &#x27;A17&#x27;, &#x27;A18&#x27;, &#x27;A19&#x27;, &#x27;A20&#x27;, &#x27;A21&#x27;]</pre></div></div></div><div class=\"sk-serial\"><div class=\"sk-item\"><div class=\"sk-serial\"><div class=\"sk-item\"><div class=\"sk-estimator sk-toggleable\"><input class=\"sk-toggleable__control sk-hidden--visually\" id=\"sk-estimator-id-122\" type=\"checkbox\" ><label for=\"sk-estimator-id-122\" class=\"sk-toggleable__label sk-toggleable__label-arrow\">OneHotEncoder</label><div class=\"sk-toggleable__content\"><pre>OneHotEncoder()</pre></div></div></div></div></div></div></div></div></div></div><div class=\"sk-item\"><div class=\"sk-estimator sk-toggleable\"><input class=\"sk-toggleable__control sk-hidden--visually\" id=\"sk-estimator-id-123\" type=\"checkbox\" ><label for=\"sk-estimator-id-123\" class=\"sk-toggleable__label sk-toggleable__label-arrow\">DecisionTreeClassifier</label><div class=\"sk-toggleable__content\"><pre>DecisionTreeClassifier()</pre></div></div></div></div></div></div></div>"
      ],
      "text/plain": [
       "Pipeline(steps=[('transformer',\n",
       "                 ColumnTransformer(transformers=[('num',\n",
       "                                                  Pipeline(steps=[('scaler',\n",
       "                                                                   StandardScaler())]),\n",
       "                                                  ['A2', 'A4', 'A5', 'A13']),\n",
       "                                                 ('cat',\n",
       "                                                  Pipeline(steps=[('onehot',\n",
       "                                                                   OneHotEncoder())]),\n",
       "                                                  ['A1', 'A6', 'A7', 'A8', 'A9',\n",
       "                                                   'A10', 'A11', 'A12', 'A14',\n",
       "                                                   'A15', 'A16', 'A17', 'A18',\n",
       "                                                   'A19', 'A20', 'A21'])])),\n",
       "                ('DT_Classifier', DecisionTreeClassifier())])"
      ]
     },
     "execution_count": 450,
     "metadata": {},
     "output_type": "execute_result"
    }
   ],
   "source": [
    "modelo_DT.fit(X_train, y_train)"
   ]
  },
  {
   "cell_type": "code",
   "execution_count": 451,
   "metadata": {},
   "outputs": [
    {
     "data": {
      "text/plain": [
       "array([2, 4, 2, 2, 2, 3, 2, 2, 2, 2, 4, 2, 4, 1, 3, 2, 2, 2, 2, 0, 2, 0,\n",
       "       2, 2, 2, 4, 2, 2, 2, 3, 4, 1, 4, 4, 4, 2, 4, 2, 2, 1, 3, 3, 4, 0,\n",
       "       2, 3, 4, 2, 2, 3, 4, 4, 2, 4, 2, 2, 1, 2, 3, 2, 1, 2, 1, 2, 4, 0,\n",
       "       3, 2, 4, 2, 4, 2, 3, 4, 4, 2, 4, 4, 2, 4, 2, 2, 4, 1, 2, 4, 2, 2,\n",
       "       4, 4, 4, 4, 4, 4, 2, 2, 1, 4, 2, 2, 4, 0, 2, 2, 4, 2, 4, 2, 4, 2,\n",
       "       4, 2, 4, 1, 2, 2, 2, 2, 4, 1, 2, 4, 2, 2, 4, 3, 1, 2, 2, 2, 2, 2,\n",
       "       2, 3, 2, 4, 2, 2, 4, 1, 4, 4, 2, 2, 4, 2, 2, 4, 4, 2, 2, 2, 4, 4,\n",
       "       2, 4, 4, 3, 2, 4, 4, 2, 4, 1, 2, 2, 3, 2, 1, 4, 3, 1, 2, 2, 4, 2,\n",
       "       2, 2, 4, 4, 1, 2, 4, 2, 2, 3, 2, 4, 1, 1, 2, 3, 4, 2, 2, 2, 4, 2,\n",
       "       2, 3])"
      ]
     },
     "execution_count": 451,
     "metadata": {},
     "output_type": "execute_result"
    }
   ],
   "source": [
    "y_pred = modelo_DT.predict(X_test)\n",
    "y_pred"
   ]
  },
  {
   "cell_type": "code",
   "execution_count": 452,
   "metadata": {},
   "outputs": [
    {
     "data": {
      "text/plain": [
       "array([4, 4, 2, 2, 2, 0, 1, 2, 4, 2, 4, 3, 4, 2, 0, 2, 2, 2, 2, 0, 2, 1,\n",
       "       2, 3, 2, 2, 2, 2, 3, 2, 2, 2, 4, 4, 2, 2, 4, 2, 4, 3, 4, 0, 2, 3,\n",
       "       2, 3, 2, 2, 2, 3, 4, 4, 1, 2, 2, 2, 2, 2, 3, 2, 2, 2, 3, 2, 2, 4,\n",
       "       2, 2, 2, 2, 2, 2, 2, 2, 2, 1, 4, 2, 2, 4, 2, 4, 3, 0, 2, 4, 2, 2,\n",
       "       2, 3, 4, 3, 2, 2, 0, 2, 3, 2, 4, 2, 0, 1, 2, 2, 4, 2, 4, 4, 2, 2,\n",
       "       3, 2, 2, 1, 4, 2, 1, 2, 4, 2, 2, 3, 2, 2, 4, 4, 0, 4, 2, 2, 2, 4,\n",
       "       2, 0, 2, 2, 2, 2, 2, 4, 3, 0, 2, 2, 1, 2, 0, 2, 4, 2, 2, 2, 2, 3,\n",
       "       2, 2, 3, 4, 2, 4, 2, 1, 4, 2, 2, 2, 2, 2, 4, 2, 4, 1, 2, 2, 2, 2,\n",
       "       4, 2, 4, 4, 2, 2, 2, 2, 2, 4, 2, 4, 1, 4, 4, 2, 2, 2, 0, 2, 4, 2,\n",
       "       2, 0])"
      ]
     },
     "execution_count": 452,
     "metadata": {},
     "output_type": "execute_result"
    }
   ],
   "source": [
    "# Prueba en y_test\n",
    "y_test.values"
   ]
  },
  {
   "cell_type": "code",
   "execution_count": 453,
   "metadata": {},
   "outputs": [
    {
     "name": "stdout",
     "output_type": "stream",
     "text": [
      "52.5 %\n"
     ]
    }
   ],
   "source": [
    "# Comparación\n",
    "print (np.equal(y_pred, y_test.values).sum() / len(y_pred)*100, '%')"
   ]
  },
  {
   "cell_type": "code",
   "execution_count": 454,
   "metadata": {},
   "outputs": [
    {
     "name": "stdout",
     "output_type": "stream",
     "text": [
      "52.5 %\n"
     ]
    }
   ],
   "source": [
    "# Score\n",
    "print(modelo_DT.score(X_test,y_test)*100,'%' )"
   ]
  },
  {
   "cell_type": "markdown",
   "metadata": {},
   "source": [
    "### Cross validation"
   ]
  },
  {
   "cell_type": "code",
   "execution_count": 455,
   "metadata": {},
   "outputs": [],
   "source": [
    "#definir los parametros con el diccionario params utilizado \n",
    "max_depth = list(range(2,20,2))\n",
    "min_samples_leaf = list(range(2,30,3))\n",
    "\n",
    "params = {\n",
    "    'DT_Classifier__max_depth': max_depth, \n",
    "    'DT_Classifier__min_samples_leaf':min_samples_leaf\n",
    "\n",
    "}"
   ]
  },
  {
   "cell_type": "code",
   "execution_count": 456,
   "metadata": {},
   "outputs": [
    {
     "name": "stdout",
     "output_type": "stream",
     "text": [
      "Modelo con 1 max_depth, 1 min_samples_leaf\n",
      " Presición_ 0.675\n",
      "....\n",
      "Modelo con 5 max_depth, 1 min_samples_leaf\n",
      " Presición_ 0.65\n",
      "....\n",
      "Modelo con 9 max_depth, 1 min_samples_leaf\n",
      " Presición_ 0.57\n",
      "....\n",
      "Modelo con 13 max_depth, 1 min_samples_leaf\n",
      " Presición_ 0.56\n",
      "....\n",
      "Modelo con 17 max_depth, 1 min_samples_leaf\n",
      " Presición_ 0.57\n",
      "....\n",
      "Modelo con 21 max_depth, 1 min_samples_leaf\n",
      " Presición_ 0.545\n",
      "....\n",
      "Modelo con 25 max_depth, 1 min_samples_leaf\n",
      " Presición_ 0.545\n",
      "....\n",
      "Modelo con 29 max_depth, 1 min_samples_leaf\n",
      " Presición_ 0.545\n",
      "....\n",
      "Modelo con 1 max_depth, 5 min_samples_leaf\n",
      " Presición_ 0.675\n",
      "....\n",
      "Modelo con 5 max_depth, 5 min_samples_leaf\n",
      " Presición_ 0.66\n",
      "....\n",
      "Modelo con 9 max_depth, 5 min_samples_leaf\n",
      " Presición_ 0.635\n",
      "....\n",
      "Modelo con 13 max_depth, 5 min_samples_leaf\n",
      " Presición_ 0.625\n",
      "....\n",
      "Modelo con 17 max_depth, 5 min_samples_leaf\n",
      " Presición_ 0.615\n",
      "....\n",
      "Modelo con 21 max_depth, 5 min_samples_leaf\n",
      " Presición_ 0.615\n",
      "....\n",
      "Modelo con 25 max_depth, 5 min_samples_leaf\n",
      " Presición_ 0.615\n",
      "....\n",
      "Modelo con 29 max_depth, 5 min_samples_leaf\n",
      " Presición_ 0.615\n",
      "....\n",
      "Modelo con 1 max_depth, 9 min_samples_leaf\n",
      " Presición_ 0.675\n",
      "....\n",
      "Modelo con 5 max_depth, 9 min_samples_leaf\n",
      " Presición_ 0.65\n",
      "....\n",
      "Modelo con 9 max_depth, 9 min_samples_leaf\n",
      " Presición_ 0.64\n",
      "....\n",
      "Modelo con 13 max_depth, 9 min_samples_leaf\n",
      " Presición_ 0.635\n",
      "....\n",
      "Modelo con 17 max_depth, 9 min_samples_leaf\n",
      " Presición_ 0.635\n",
      "....\n",
      "Modelo con 21 max_depth, 9 min_samples_leaf\n",
      " Presición_ 0.635\n",
      "....\n",
      "Modelo con 25 max_depth, 9 min_samples_leaf\n",
      " Presición_ 0.635\n",
      "....\n",
      "Modelo con 29 max_depth, 9 min_samples_leaf\n",
      " Presición_ 0.635\n",
      "....\n",
      "Modelo con 1 max_depth, 13 min_samples_leaf\n",
      " Presición_ 0.675\n",
      "....\n",
      "Modelo con 5 max_depth, 13 min_samples_leaf\n",
      " Presición_ 0.66\n",
      "....\n",
      "Modelo con 9 max_depth, 13 min_samples_leaf\n",
      " Presición_ 0.65\n",
      "....\n",
      "Modelo con 13 max_depth, 13 min_samples_leaf\n",
      " Presición_ 0.65\n",
      "....\n",
      "Modelo con 17 max_depth, 13 min_samples_leaf\n",
      " Presición_ 0.65\n",
      "....\n",
      "Modelo con 21 max_depth, 13 min_samples_leaf\n",
      " Presición_ 0.65\n",
      "....\n",
      "Modelo con 25 max_depth, 13 min_samples_leaf\n",
      " Presición_ 0.65\n",
      "....\n",
      "Modelo con 29 max_depth, 13 min_samples_leaf\n",
      " Presición_ 0.65\n",
      "....\n",
      "Modelo con 1 max_depth, 17 min_samples_leaf\n",
      " Presición_ 0.675\n",
      "....\n",
      "Modelo con 5 max_depth, 17 min_samples_leaf\n",
      " Presición_ 0.655\n",
      "....\n",
      "Modelo con 9 max_depth, 17 min_samples_leaf\n",
      " Presición_ 0.635\n",
      "....\n",
      "Modelo con 13 max_depth, 17 min_samples_leaf\n",
      " Presición_ 0.635\n",
      "....\n",
      "Modelo con 17 max_depth, 17 min_samples_leaf\n",
      " Presición_ 0.635\n",
      "....\n",
      "Modelo con 21 max_depth, 17 min_samples_leaf\n",
      " Presición_ 0.635\n",
      "....\n",
      "Modelo con 25 max_depth, 17 min_samples_leaf\n",
      " Presición_ 0.635\n",
      "....\n",
      "Modelo con 29 max_depth, 17 min_samples_leaf\n",
      " Presición_ 0.635\n",
      "....\n",
      "Modelo con 1 max_depth, 21 min_samples_leaf\n",
      " Presición_ 0.675\n",
      "....\n",
      "Modelo con 5 max_depth, 21 min_samples_leaf\n",
      " Presición_ 0.66\n",
      "....\n",
      "Modelo con 9 max_depth, 21 min_samples_leaf\n",
      " Presición_ 0.66\n",
      "....\n",
      "Modelo con 13 max_depth, 21 min_samples_leaf\n",
      " Presición_ 0.66\n",
      "....\n",
      "Modelo con 17 max_depth, 21 min_samples_leaf\n",
      " Presición_ 0.66\n",
      "....\n",
      "Modelo con 21 max_depth, 21 min_samples_leaf\n",
      " Presición_ 0.66\n",
      "....\n",
      "Modelo con 25 max_depth, 21 min_samples_leaf\n",
      " Presición_ 0.66\n",
      "....\n",
      "Modelo con 29 max_depth, 21 min_samples_leaf\n",
      " Presición_ 0.66\n",
      "....\n",
      "Modelo con 1 max_depth, 25 min_samples_leaf\n",
      " Presición_ 0.675\n",
      "....\n",
      "Modelo con 5 max_depth, 25 min_samples_leaf\n",
      " Presición_ 0.665\n",
      "....\n",
      "Modelo con 9 max_depth, 25 min_samples_leaf\n",
      " Presición_ 0.665\n",
      "....\n",
      "Modelo con 13 max_depth, 25 min_samples_leaf\n",
      " Presición_ 0.665\n",
      "....\n",
      "Modelo con 17 max_depth, 25 min_samples_leaf\n",
      " Presición_ 0.665\n",
      "....\n",
      "Modelo con 21 max_depth, 25 min_samples_leaf\n",
      " Presición_ 0.665\n",
      "....\n",
      "Modelo con 25 max_depth, 25 min_samples_leaf\n",
      " Presición_ 0.665\n",
      "....\n",
      "Modelo con 29 max_depth, 25 min_samples_leaf\n",
      " Presición_ 0.665\n",
      "....\n",
      "Modelo con 1 max_depth, 29 min_samples_leaf\n",
      " Presición_ 0.675\n",
      "....\n",
      "Modelo con 5 max_depth, 29 min_samples_leaf\n",
      " Presición_ 0.665\n",
      "....\n",
      "Modelo con 9 max_depth, 29 min_samples_leaf\n",
      " Presición_ 0.665\n",
      "....\n",
      "Modelo con 13 max_depth, 29 min_samples_leaf\n",
      " Presición_ 0.665\n",
      "....\n",
      "Modelo con 17 max_depth, 29 min_samples_leaf\n",
      " Presición_ 0.665\n",
      "....\n",
      "Modelo con 21 max_depth, 29 min_samples_leaf\n",
      " Presición_ 0.665\n",
      "....\n",
      "Modelo con 25 max_depth, 29 min_samples_leaf\n",
      " Presición_ 0.665\n",
      "....\n",
      "Modelo con 29 max_depth, 29 min_samples_leaf\n",
      " Presición_ 0.665\n",
      "....\n"
     ]
    }
   ],
   "source": [
    "for j in range(1,30,4):\n",
    "    for i in range(1,30,4):\n",
    "        print(f'Modelo con {i} max_depth, {j} min_samples_leaf')\n",
    "        model = DecisionTreeClassifier(random_state= 21,\n",
    "                                        max_depth=i,\n",
    "                                        min_samples_leaf=j)\n",
    "        model.fit(X_train,y_train)\n",
    "        print(f' Presición_ {model.score(X_test,y_test)}')\n",
    "        print('....')"
   ]
  },
  {
   "cell_type": "markdown",
   "metadata": {},
   "source": [
    "### Ajustar el modelo"
   ]
  },
  {
   "cell_type": "code",
   "execution_count": 457,
   "metadata": {},
   "outputs": [],
   "source": [
    "# Ajuste de los parametros max_depth y min_samples_leaf\n",
    "from sklearn.model_selection import GridSearchCV\n",
    "grid_DT = GridSearchCV( modelo_DT, param_grid = params , \n",
    "                        cv = 5, \n",
    "                        scoring = 'neg_mean_squared_error',\n",
    "                        n_jobs = -1,\n",
    "                        verbose = 2) "
   ]
  },
  {
   "cell_type": "code",
   "execution_count": 458,
   "metadata": {},
   "outputs": [
    {
     "name": "stdout",
     "output_type": "stream",
     "text": [
      "Fitting 5 folds for each of 90 candidates, totalling 450 fits\n"
     ]
    },
    {
     "data": {
      "text/html": [
       "<style>#sk-container-id-38 {color: black;}#sk-container-id-38 pre{padding: 0;}#sk-container-id-38 div.sk-toggleable {background-color: white;}#sk-container-id-38 label.sk-toggleable__label {cursor: pointer;display: block;width: 100%;margin-bottom: 0;padding: 0.3em;box-sizing: border-box;text-align: center;}#sk-container-id-38 label.sk-toggleable__label-arrow:before {content: \"▸\";float: left;margin-right: 0.25em;color: #696969;}#sk-container-id-38 label.sk-toggleable__label-arrow:hover:before {color: black;}#sk-container-id-38 div.sk-estimator:hover label.sk-toggleable__label-arrow:before {color: black;}#sk-container-id-38 div.sk-toggleable__content {max-height: 0;max-width: 0;overflow: hidden;text-align: left;background-color: #f0f8ff;}#sk-container-id-38 div.sk-toggleable__content pre {margin: 0.2em;color: black;border-radius: 0.25em;background-color: #f0f8ff;}#sk-container-id-38 input.sk-toggleable__control:checked~div.sk-toggleable__content {max-height: 200px;max-width: 100%;overflow: auto;}#sk-container-id-38 input.sk-toggleable__control:checked~label.sk-toggleable__label-arrow:before {content: \"▾\";}#sk-container-id-38 div.sk-estimator input.sk-toggleable__control:checked~label.sk-toggleable__label {background-color: #d4ebff;}#sk-container-id-38 div.sk-label input.sk-toggleable__control:checked~label.sk-toggleable__label {background-color: #d4ebff;}#sk-container-id-38 input.sk-hidden--visually {border: 0;clip: rect(1px 1px 1px 1px);clip: rect(1px, 1px, 1px, 1px);height: 1px;margin: -1px;overflow: hidden;padding: 0;position: absolute;width: 1px;}#sk-container-id-38 div.sk-estimator {font-family: monospace;background-color: #f0f8ff;border: 1px dotted black;border-radius: 0.25em;box-sizing: border-box;margin-bottom: 0.5em;}#sk-container-id-38 div.sk-estimator:hover {background-color: #d4ebff;}#sk-container-id-38 div.sk-parallel-item::after {content: \"\";width: 100%;border-bottom: 1px solid gray;flex-grow: 1;}#sk-container-id-38 div.sk-label:hover label.sk-toggleable__label {background-color: #d4ebff;}#sk-container-id-38 div.sk-serial::before {content: \"\";position: absolute;border-left: 1px solid gray;box-sizing: border-box;top: 0;bottom: 0;left: 50%;z-index: 0;}#sk-container-id-38 div.sk-serial {display: flex;flex-direction: column;align-items: center;background-color: white;padding-right: 0.2em;padding-left: 0.2em;position: relative;}#sk-container-id-38 div.sk-item {position: relative;z-index: 1;}#sk-container-id-38 div.sk-parallel {display: flex;align-items: stretch;justify-content: center;background-color: white;position: relative;}#sk-container-id-38 div.sk-item::before, #sk-container-id-38 div.sk-parallel-item::before {content: \"\";position: absolute;border-left: 1px solid gray;box-sizing: border-box;top: 0;bottom: 0;left: 50%;z-index: -1;}#sk-container-id-38 div.sk-parallel-item {display: flex;flex-direction: column;z-index: 1;position: relative;background-color: white;}#sk-container-id-38 div.sk-parallel-item:first-child::after {align-self: flex-end;width: 50%;}#sk-container-id-38 div.sk-parallel-item:last-child::after {align-self: flex-start;width: 50%;}#sk-container-id-38 div.sk-parallel-item:only-child::after {width: 0;}#sk-container-id-38 div.sk-dashed-wrapped {border: 1px dashed gray;margin: 0 0.4em 0.5em 0.4em;box-sizing: border-box;padding-bottom: 0.4em;background-color: white;}#sk-container-id-38 div.sk-label label {font-family: monospace;font-weight: bold;display: inline-block;line-height: 1.2em;}#sk-container-id-38 div.sk-label-container {text-align: center;}#sk-container-id-38 div.sk-container {/* jupyter's `normalize.less` sets `[hidden] { display: none; }` but bootstrap.min.css set `[hidden] { display: none !important; }` so we also need the `!important` here to be able to override the default hidden behavior on the sphinx rendered scikit-learn.org. See: https://github.com/scikit-learn/scikit-learn/issues/21755 */display: inline-block !important;position: relative;}#sk-container-id-38 div.sk-text-repr-fallback {display: none;}</style><div id=\"sk-container-id-38\" class=\"sk-top-container\"><div class=\"sk-text-repr-fallback\"><pre>GridSearchCV(cv=5,\n",
       "             estimator=Pipeline(steps=[(&#x27;transformer&#x27;,\n",
       "                                        ColumnTransformer(transformers=[(&#x27;num&#x27;,\n",
       "                                                                         Pipeline(steps=[(&#x27;scaler&#x27;,\n",
       "                                                                                          StandardScaler())]),\n",
       "                                                                         [&#x27;A2&#x27;,\n",
       "                                                                          &#x27;A4&#x27;,\n",
       "                                                                          &#x27;A5&#x27;,\n",
       "                                                                          &#x27;A13&#x27;]),\n",
       "                                                                        (&#x27;cat&#x27;,\n",
       "                                                                         Pipeline(steps=[(&#x27;onehot&#x27;,\n",
       "                                                                                          OneHotEncoder())]),\n",
       "                                                                         [&#x27;A1&#x27;,\n",
       "                                                                          &#x27;A6&#x27;,\n",
       "                                                                          &#x27;A7&#x27;,\n",
       "                                                                          &#x27;A8&#x27;,\n",
       "                                                                          &#x27;A9&#x27;,\n",
       "                                                                          &#x27;A10&#x27;,\n",
       "                                                                          &#x27;A11&#x27;,\n",
       "                                                                          &#x27;A12&#x27;,\n",
       "                                                                          &#x27;A14&#x27;,\n",
       "                                                                          &#x27;A15&#x27;,\n",
       "                                                                          &#x27;A16&#x27;,\n",
       "                                                                          &#x27;A17&#x27;,\n",
       "                                                                          &#x27;A18&#x27;,\n",
       "                                                                          &#x27;A19&#x27;,\n",
       "                                                                          &#x27;A20&#x27;,\n",
       "                                                                          &#x27;A21&#x27;])])),\n",
       "                                       (&#x27;DT_Classifier&#x27;,\n",
       "                                        DecisionTreeClassifier())]),\n",
       "             n_jobs=-1,\n",
       "             param_grid={&#x27;DT_Classifier__max_depth&#x27;: [2, 4, 6, 8, 10, 12, 14,\n",
       "                                                      16, 18],\n",
       "                         &#x27;DT_Classifier__min_samples_leaf&#x27;: [2, 5, 8, 11, 14,\n",
       "                                                             17, 20, 23, 26,\n",
       "                                                             29]},\n",
       "             scoring=&#x27;neg_mean_squared_error&#x27;, verbose=2)</pre><b>In a Jupyter environment, please rerun this cell to show the HTML representation or trust the notebook. <br />On GitHub, the HTML representation is unable to render, please try loading this page with nbviewer.org.</b></div><div class=\"sk-container\" hidden><div class=\"sk-item sk-dashed-wrapped\"><div class=\"sk-label-container\"><div class=\"sk-label sk-toggleable\"><input class=\"sk-toggleable__control sk-hidden--visually\" id=\"sk-estimator-id-124\" type=\"checkbox\" ><label for=\"sk-estimator-id-124\" class=\"sk-toggleable__label sk-toggleable__label-arrow\">GridSearchCV</label><div class=\"sk-toggleable__content\"><pre>GridSearchCV(cv=5,\n",
       "             estimator=Pipeline(steps=[(&#x27;transformer&#x27;,\n",
       "                                        ColumnTransformer(transformers=[(&#x27;num&#x27;,\n",
       "                                                                         Pipeline(steps=[(&#x27;scaler&#x27;,\n",
       "                                                                                          StandardScaler())]),\n",
       "                                                                         [&#x27;A2&#x27;,\n",
       "                                                                          &#x27;A4&#x27;,\n",
       "                                                                          &#x27;A5&#x27;,\n",
       "                                                                          &#x27;A13&#x27;]),\n",
       "                                                                        (&#x27;cat&#x27;,\n",
       "                                                                         Pipeline(steps=[(&#x27;onehot&#x27;,\n",
       "                                                                                          OneHotEncoder())]),\n",
       "                                                                         [&#x27;A1&#x27;,\n",
       "                                                                          &#x27;A6&#x27;,\n",
       "                                                                          &#x27;A7&#x27;,\n",
       "                                                                          &#x27;A8&#x27;,\n",
       "                                                                          &#x27;A9&#x27;,\n",
       "                                                                          &#x27;A10&#x27;,\n",
       "                                                                          &#x27;A11&#x27;,\n",
       "                                                                          &#x27;A12&#x27;,\n",
       "                                                                          &#x27;A14&#x27;,\n",
       "                                                                          &#x27;A15&#x27;,\n",
       "                                                                          &#x27;A16&#x27;,\n",
       "                                                                          &#x27;A17&#x27;,\n",
       "                                                                          &#x27;A18&#x27;,\n",
       "                                                                          &#x27;A19&#x27;,\n",
       "                                                                          &#x27;A20&#x27;,\n",
       "                                                                          &#x27;A21&#x27;])])),\n",
       "                                       (&#x27;DT_Classifier&#x27;,\n",
       "                                        DecisionTreeClassifier())]),\n",
       "             n_jobs=-1,\n",
       "             param_grid={&#x27;DT_Classifier__max_depth&#x27;: [2, 4, 6, 8, 10, 12, 14,\n",
       "                                                      16, 18],\n",
       "                         &#x27;DT_Classifier__min_samples_leaf&#x27;: [2, 5, 8, 11, 14,\n",
       "                                                             17, 20, 23, 26,\n",
       "                                                             29]},\n",
       "             scoring=&#x27;neg_mean_squared_error&#x27;, verbose=2)</pre></div></div></div><div class=\"sk-parallel\"><div class=\"sk-parallel-item\"><div class=\"sk-item\"><div class=\"sk-label-container\"><div class=\"sk-label sk-toggleable\"><input class=\"sk-toggleable__control sk-hidden--visually\" id=\"sk-estimator-id-125\" type=\"checkbox\" ><label for=\"sk-estimator-id-125\" class=\"sk-toggleable__label sk-toggleable__label-arrow\">estimator: Pipeline</label><div class=\"sk-toggleable__content\"><pre>Pipeline(steps=[(&#x27;transformer&#x27;,\n",
       "                 ColumnTransformer(transformers=[(&#x27;num&#x27;,\n",
       "                                                  Pipeline(steps=[(&#x27;scaler&#x27;,\n",
       "                                                                   StandardScaler())]),\n",
       "                                                  [&#x27;A2&#x27;, &#x27;A4&#x27;, &#x27;A5&#x27;, &#x27;A13&#x27;]),\n",
       "                                                 (&#x27;cat&#x27;,\n",
       "                                                  Pipeline(steps=[(&#x27;onehot&#x27;,\n",
       "                                                                   OneHotEncoder())]),\n",
       "                                                  [&#x27;A1&#x27;, &#x27;A6&#x27;, &#x27;A7&#x27;, &#x27;A8&#x27;, &#x27;A9&#x27;,\n",
       "                                                   &#x27;A10&#x27;, &#x27;A11&#x27;, &#x27;A12&#x27;, &#x27;A14&#x27;,\n",
       "                                                   &#x27;A15&#x27;, &#x27;A16&#x27;, &#x27;A17&#x27;, &#x27;A18&#x27;,\n",
       "                                                   &#x27;A19&#x27;, &#x27;A20&#x27;, &#x27;A21&#x27;])])),\n",
       "                (&#x27;DT_Classifier&#x27;, DecisionTreeClassifier())])</pre></div></div></div><div class=\"sk-serial\"><div class=\"sk-item\"><div class=\"sk-serial\"><div class=\"sk-item sk-dashed-wrapped\"><div class=\"sk-label-container\"><div class=\"sk-label sk-toggleable\"><input class=\"sk-toggleable__control sk-hidden--visually\" id=\"sk-estimator-id-126\" type=\"checkbox\" ><label for=\"sk-estimator-id-126\" class=\"sk-toggleable__label sk-toggleable__label-arrow\">transformer: ColumnTransformer</label><div class=\"sk-toggleable__content\"><pre>ColumnTransformer(transformers=[(&#x27;num&#x27;,\n",
       "                                 Pipeline(steps=[(&#x27;scaler&#x27;, StandardScaler())]),\n",
       "                                 [&#x27;A2&#x27;, &#x27;A4&#x27;, &#x27;A5&#x27;, &#x27;A13&#x27;]),\n",
       "                                (&#x27;cat&#x27;,\n",
       "                                 Pipeline(steps=[(&#x27;onehot&#x27;, OneHotEncoder())]),\n",
       "                                 [&#x27;A1&#x27;, &#x27;A6&#x27;, &#x27;A7&#x27;, &#x27;A8&#x27;, &#x27;A9&#x27;, &#x27;A10&#x27;, &#x27;A11&#x27;,\n",
       "                                  &#x27;A12&#x27;, &#x27;A14&#x27;, &#x27;A15&#x27;, &#x27;A16&#x27;, &#x27;A17&#x27;, &#x27;A18&#x27;,\n",
       "                                  &#x27;A19&#x27;, &#x27;A20&#x27;, &#x27;A21&#x27;])])</pre></div></div></div><div class=\"sk-parallel\"><div class=\"sk-parallel-item\"><div class=\"sk-item\"><div class=\"sk-label-container\"><div class=\"sk-label sk-toggleable\"><input class=\"sk-toggleable__control sk-hidden--visually\" id=\"sk-estimator-id-127\" type=\"checkbox\" ><label for=\"sk-estimator-id-127\" class=\"sk-toggleable__label sk-toggleable__label-arrow\">num</label><div class=\"sk-toggleable__content\"><pre>[&#x27;A2&#x27;, &#x27;A4&#x27;, &#x27;A5&#x27;, &#x27;A13&#x27;]</pre></div></div></div><div class=\"sk-serial\"><div class=\"sk-item\"><div class=\"sk-serial\"><div class=\"sk-item\"><div class=\"sk-estimator sk-toggleable\"><input class=\"sk-toggleable__control sk-hidden--visually\" id=\"sk-estimator-id-128\" type=\"checkbox\" ><label for=\"sk-estimator-id-128\" class=\"sk-toggleable__label sk-toggleable__label-arrow\">StandardScaler</label><div class=\"sk-toggleable__content\"><pre>StandardScaler()</pre></div></div></div></div></div></div></div></div><div class=\"sk-parallel-item\"><div class=\"sk-item\"><div class=\"sk-label-container\"><div class=\"sk-label sk-toggleable\"><input class=\"sk-toggleable__control sk-hidden--visually\" id=\"sk-estimator-id-129\" type=\"checkbox\" ><label for=\"sk-estimator-id-129\" class=\"sk-toggleable__label sk-toggleable__label-arrow\">cat</label><div class=\"sk-toggleable__content\"><pre>[&#x27;A1&#x27;, &#x27;A6&#x27;, &#x27;A7&#x27;, &#x27;A8&#x27;, &#x27;A9&#x27;, &#x27;A10&#x27;, &#x27;A11&#x27;, &#x27;A12&#x27;, &#x27;A14&#x27;, &#x27;A15&#x27;, &#x27;A16&#x27;, &#x27;A17&#x27;, &#x27;A18&#x27;, &#x27;A19&#x27;, &#x27;A20&#x27;, &#x27;A21&#x27;]</pre></div></div></div><div class=\"sk-serial\"><div class=\"sk-item\"><div class=\"sk-serial\"><div class=\"sk-item\"><div class=\"sk-estimator sk-toggleable\"><input class=\"sk-toggleable__control sk-hidden--visually\" id=\"sk-estimator-id-130\" type=\"checkbox\" ><label for=\"sk-estimator-id-130\" class=\"sk-toggleable__label sk-toggleable__label-arrow\">OneHotEncoder</label><div class=\"sk-toggleable__content\"><pre>OneHotEncoder()</pre></div></div></div></div></div></div></div></div></div></div><div class=\"sk-item\"><div class=\"sk-estimator sk-toggleable\"><input class=\"sk-toggleable__control sk-hidden--visually\" id=\"sk-estimator-id-131\" type=\"checkbox\" ><label for=\"sk-estimator-id-131\" class=\"sk-toggleable__label sk-toggleable__label-arrow\">DecisionTreeClassifier</label><div class=\"sk-toggleable__content\"><pre>DecisionTreeClassifier()</pre></div></div></div></div></div></div></div></div></div></div></div></div>"
      ],
      "text/plain": [
       "GridSearchCV(cv=5,\n",
       "             estimator=Pipeline(steps=[('transformer',\n",
       "                                        ColumnTransformer(transformers=[('num',\n",
       "                                                                         Pipeline(steps=[('scaler',\n",
       "                                                                                          StandardScaler())]),\n",
       "                                                                         ['A2',\n",
       "                                                                          'A4',\n",
       "                                                                          'A5',\n",
       "                                                                          'A13']),\n",
       "                                                                        ('cat',\n",
       "                                                                         Pipeline(steps=[('onehot',\n",
       "                                                                                          OneHotEncoder())]),\n",
       "                                                                         ['A1',\n",
       "                                                                          'A6',\n",
       "                                                                          'A7',\n",
       "                                                                          'A8',\n",
       "                                                                          'A9',\n",
       "                                                                          'A10',\n",
       "                                                                          'A11',\n",
       "                                                                          'A12',\n",
       "                                                                          'A14',\n",
       "                                                                          'A15',\n",
       "                                                                          'A16',\n",
       "                                                                          'A17',\n",
       "                                                                          'A18',\n",
       "                                                                          'A19',\n",
       "                                                                          'A20',\n",
       "                                                                          'A21'])])),\n",
       "                                       ('DT_Classifier',\n",
       "                                        DecisionTreeClassifier())]),\n",
       "             n_jobs=-1,\n",
       "             param_grid={'DT_Classifier__max_depth': [2, 4, 6, 8, 10, 12, 14,\n",
       "                                                      16, 18],\n",
       "                         'DT_Classifier__min_samples_leaf': [2, 5, 8, 11, 14,\n",
       "                                                             17, 20, 23, 26,\n",
       "                                                             29]},\n",
       "             scoring='neg_mean_squared_error', verbose=2)"
      ]
     },
     "execution_count": 458,
     "metadata": {},
     "output_type": "execute_result"
    }
   ],
   "source": [
    "grid_DT.fit(X,y)"
   ]
  },
  {
   "cell_type": "code",
   "execution_count": 459,
   "metadata": {},
   "outputs": [
    {
     "data": {
      "text/plain": [
       "{'DT_Classifier__max_depth': 4, 'DT_Classifier__min_samples_leaf': 26}"
      ]
     },
     "execution_count": 459,
     "metadata": {},
     "output_type": "execute_result"
    }
   ],
   "source": [
    "grid_DT.best_params_"
   ]
  },
  {
   "cell_type": "markdown",
   "metadata": {},
   "source": [
    "### Testing"
   ]
  },
  {
   "cell_type": "code",
   "execution_count": 460,
   "metadata": {},
   "outputs": [
    {
     "name": "stdout",
     "output_type": "stream",
     "text": [
      "66.5 %\n"
     ]
    }
   ],
   "source": [
    "model = DecisionTreeClassifier(random_state= 21,\n",
    "                                max_depth=4,\n",
    "                                min_samples_leaf=26)\n",
    "model.fit(X_train, y_train)\n",
    "y_pred = model.predict(X_test)\n",
    "print(model.score(X_test, y_test)*100, '%' )"
   ]
  },
  {
   "cell_type": "markdown",
   "metadata": {},
   "source": [
    "# 6. Random Forest Classifier"
   ]
  },
  {
   "cell_type": "code",
   "execution_count": 461,
   "metadata": {},
   "outputs": [
    {
     "name": "stdout",
     "output_type": "stream",
     "text": [
      " Score de : 67.5 %\n"
     ]
    }
   ],
   "source": [
    "# Módulo RandomForestClassifier\n",
    "from sklearn.ensemble import RandomForestClassifier\n",
    "\n",
    "model = RandomForestClassifier(random_state= 21,\n",
    "                                max_depth=4,\n",
    "                                min_samples_leaf=26)\n",
    "model.fit(X_train, y_train)\n",
    "y_pred = model.predict(X_test)\n",
    "print(f' Score de : {model.score(X_test, y_test)*100} %' )"
   ]
  },
  {
   "cell_type": "code",
   "execution_count": 462,
   "metadata": {},
   "outputs": [],
   "source": [
    "# Modelo\n",
    "rfc = RandomForestClassifier()"
   ]
  },
  {
   "cell_type": "code",
   "execution_count": 463,
   "metadata": {},
   "outputs": [
    {
     "data": {
      "text/plain": [
       "{'max_depth': [2, 4, 6, 8, 10, 12, 14],\n",
       " 'min_samples_leaf': [2, 5, 8, 11, 14, 17, 20, 23, 26, 29],\n",
       " 'max_features': [0, 1, 2, 3, 4, 5, 6, 7, 8, 9, 10, 11, 12, 13]}"
      ]
     },
     "execution_count": 463,
     "metadata": {},
     "output_type": "execute_result"
    }
   ],
   "source": [
    "#definir los parametros con el diccionario params utilizado \n",
    "max_depth = list(range(2,15,2))\n",
    "min_samples_leaf = list(range(2,30,3))\n",
    "max_feautures = list(range(0,14))\n",
    "params = {\n",
    "    'max_depth': max_depth, \n",
    "    'min_samples_leaf':min_samples_leaf,\n",
    "    'max_features': max_feautures\n",
    "}\n",
    "params"
   ]
  },
  {
   "cell_type": "code",
   "execution_count": 464,
   "metadata": {},
   "outputs": [],
   "source": [
    "grid_rfc = GridSearchCV( rfc, param_grid = params , \n",
    "                        cv = 5, \n",
    "                        scoring = 'neg_mean_squared_error',\n",
    "                        n_jobs = -1,\n",
    "                        verbose = 2) "
   ]
  },
  {
   "cell_type": "code",
   "execution_count": 465,
   "metadata": {},
   "outputs": [
    {
     "name": "stdout",
     "output_type": "stream",
     "text": [
      "Fitting 5 folds for each of 980 candidates, totalling 4900 fits\n"
     ]
    },
    {
     "name": "stderr",
     "output_type": "stream",
     "text": [
      "c:\\Users\\perez\\AppData\\Local\\Programs\\Python\\Python311\\Lib\\site-packages\\sklearn\\model_selection\\_validation.py:425: FitFailedWarning: \n",
      "350 fits failed out of a total of 4900.\n",
      "The score on these train-test partitions for these parameters will be set to nan.\n",
      "If these failures are not expected, you can try to debug them by setting error_score='raise'.\n",
      "\n",
      "Below are more details about the failures:\n",
      "--------------------------------------------------------------------------------\n",
      "168 fits failed with the following error:\n",
      "Traceback (most recent call last):\n",
      "  File \"c:\\Users\\perez\\AppData\\Local\\Programs\\Python\\Python311\\Lib\\site-packages\\sklearn\\model_selection\\_validation.py\", line 732, in _fit_and_score\n",
      "    estimator.fit(X_train, y_train, **fit_params)\n",
      "  File \"c:\\Users\\perez\\AppData\\Local\\Programs\\Python\\Python311\\Lib\\site-packages\\sklearn\\base.py\", line 1144, in wrapper\n",
      "    estimator._validate_params()\n",
      "  File \"c:\\Users\\perez\\AppData\\Local\\Programs\\Python\\Python311\\Lib\\site-packages\\sklearn\\base.py\", line 637, in _validate_params\n",
      "    validate_parameter_constraints(\n",
      "  File \"c:\\Users\\perez\\AppData\\Local\\Programs\\Python\\Python311\\Lib\\site-packages\\sklearn\\utils\\_param_validation.py\", line 95, in validate_parameter_constraints\n",
      "    raise InvalidParameterError(\n",
      "sklearn.utils._param_validation.InvalidParameterError: The 'max_features' parameter of RandomForestClassifier must be an int in the range [1, inf), a float in the range (0.0, 1.0], a str among {'sqrt', 'log2'} or None. Got 0 instead.\n",
      "\n",
      "--------------------------------------------------------------------------------\n",
      "182 fits failed with the following error:\n",
      "Traceback (most recent call last):\n",
      "  File \"c:\\Users\\perez\\AppData\\Local\\Programs\\Python\\Python311\\Lib\\site-packages\\sklearn\\model_selection\\_validation.py\", line 732, in _fit_and_score\n",
      "    estimator.fit(X_train, y_train, **fit_params)\n",
      "  File \"c:\\Users\\perez\\AppData\\Local\\Programs\\Python\\Python311\\Lib\\site-packages\\sklearn\\base.py\", line 1144, in wrapper\n",
      "    estimator._validate_params()\n",
      "  File \"c:\\Users\\perez\\AppData\\Local\\Programs\\Python\\Python311\\Lib\\site-packages\\sklearn\\base.py\", line 637, in _validate_params\n",
      "    validate_parameter_constraints(\n",
      "  File \"c:\\Users\\perez\\AppData\\Local\\Programs\\Python\\Python311\\Lib\\site-packages\\sklearn\\utils\\_param_validation.py\", line 95, in validate_parameter_constraints\n",
      "    raise InvalidParameterError(\n",
      "sklearn.utils._param_validation.InvalidParameterError: The 'max_features' parameter of RandomForestClassifier must be an int in the range [1, inf), a float in the range (0.0, 1.0], a str among {'log2', 'sqrt'} or None. Got 0 instead.\n",
      "\n",
      "  warnings.warn(some_fits_failed_message, FitFailedWarning)\n",
      "c:\\Users\\perez\\AppData\\Local\\Programs\\Python\\Python311\\Lib\\site-packages\\sklearn\\model_selection\\_search.py:976: UserWarning: One or more of the test scores are non-finite: [     nan      nan      nan      nan      nan      nan      nan      nan\n",
      "      nan      nan -1.52    -1.52    -1.52    -1.52    -1.52    -1.52\n",
      " -1.52    -1.52    -1.52    -1.52    -1.31    -1.245   -1.315   -1.325\n",
      " -1.32    -1.24    -1.37    -1.365   -1.355   -1.485   -1.225   -1.15\n",
      " -1.11    -1.185   -1.1     -1.1     -1.14    -1.135   -1.205   -1.105\n",
      " -1.07    -1.15    -1.09    -1.095   -1.075   -1.16    -1.095   -1.055\n",
      " -1.05    -1.195   -1.115   -1.12    -1.155   -1.09    -1.08    -1.125\n",
      " -1.07    -1.065   -1.165   -1.07    -1.105   -1.055   -1.1     -1.135\n",
      " -1.09    -1.13    -1.045   -1.115   -1.1     -1.08    -1.085   -1.1\n",
      " -1.08    -1.1     -1.1     -1.08    -1.08    -1.09    -1.095   -1.08\n",
      " -1.08    -1.08    -1.08    -1.1     -1.08    -1.085   -1.08    -1.08\n",
      " -1.08    -1.11    -1.08    -1.08    -1.08    -1.08    -1.08    -1.08\n",
      " -1.08    -1.08    -1.08    -1.08    -1.08    -1.08    -1.08    -1.08\n",
      " -1.08    -1.08    -1.08    -1.08    -1.08    -1.08    -1.08    -1.08\n",
      " -1.08    -1.08    -1.08    -1.08    -1.08    -1.08    -1.08    -1.08\n",
      " -1.08    -1.08    -1.08    -1.08    -1.08    -1.08    -1.08    -1.08\n",
      " -1.08    -1.08    -1.08    -1.08    -1.08    -1.08    -1.08    -1.08\n",
      " -1.08    -1.08    -1.08    -1.08         nan      nan      nan      nan\n",
      "      nan      nan      nan      nan      nan      nan -1.375   -1.33\n",
      " -1.335   -1.325   -1.46    -1.465   -1.44    -1.45    -1.485   -1.49\n",
      " -1.055   -1.1     -1.09    -1.1     -1.09    -1.09    -1.125   -1.055\n",
      " -1.08    -1.075   -1.085   -1.115   -1.135   -1.11    -1.09    -1.14\n",
      " -1.09    -1.115   -1.035   -1.14    -1.09    -1.075   -1.075   -1.11\n",
      " -1.125   -1.06    -1.105   -1.065   -1.09    -1.09    -1.07    -1.09875\n",
      " -1.09875 -1.08    -1.11    -1.105   -1.08    -1.1     -1.125   -1.105\n",
      " -1.07375 -1.075   -1.08    -1.095   -1.08    -1.085   -1.1     -1.11\n",
      " -1.115   -1.115   -1.07    -1.08    -1.095   -1.08    -1.085   -1.08\n",
      " -1.1     -1.1     -1.11    -1.1     -1.0625  -1.0625  -1.06375 -1.08\n",
      " -1.085   -1.08    -1.08    -1.08    -1.085   -1.085   -1.06125 -1.06375\n",
      " -1.06875 -1.07    -1.08    -1.095   -1.08    -1.08    -1.1     -1.08\n",
      " -1.05125 -1.06    -1.06    -1.07    -1.07875 -1.08    -1.08    -1.08\n",
      " -1.08    -1.08    -1.0625  -1.06125 -1.06    -1.07    -1.08    -1.08\n",
      " -1.08    -1.08    -1.085   -1.08    -1.05125 -1.05375 -1.07125 -1.05125\n",
      " -1.08    -1.07875 -1.08    -1.08    -1.08    -1.08    -1.05125 -1.04875\n",
      " -1.065   -1.06125 -1.07    -1.08    -1.08    -1.08    -1.08    -1.08\n",
      "      nan      nan      nan      nan      nan      nan      nan      nan\n",
      "      nan      nan -1.145   -1.12    -1.185   -1.18    -1.19    -1.33\n",
      " -1.4     -1.375   -1.445   -1.395   -1.055   -1.09    -1.03    -1.015\n",
      " -1.085   -1.06    -1.125   -1.105   -1.08    -1.145   -1.09875 -1.11\n",
      " -1.095   -1.14    -1.06    -1.115   -1.065   -1.075   -1.1     -1.055\n",
      " -1.11    -1.115   -1.10375 -1.095   -1.095   -1.105   -1.1     -1.115\n",
      " -1.14    -1.14    -1.08    -1.06875 -1.0725  -1.075   -1.1     -1.115\n",
      " -1.115   -1.11    -1.105   -1.09    -1.07125 -1.07625 -1.0775  -1.09\n",
      " -1.095   -1.095   -1.095   -1.105   -1.1     -1.09    -1.06875 -1.0775\n",
      " -1.0875  -1.09    -1.085   -1.1     -1.1     -1.08    -1.085   -1.105\n",
      " -1.07375 -1.07375 -1.08125 -1.09375 -1.08    -1.09    -1.08    -1.08\n",
      " -1.095   -1.08    -1.0375  -1.06375 -1.06875 -1.0675  -1.08    -1.08\n",
      " -1.08    -1.1     -1.08    -1.08    -1.04    -1.05125 -1.0575  -1.06875\n",
      " -1.08    -1.08    -1.08    -1.08    -1.08    -1.08    -1.065   -1.0725\n",
      " -1.05    -1.0575  -1.08    -1.08    -1.08    -1.08    -1.08    -1.08\n",
      " -1.04    -1.04375 -1.05625 -1.0525  -1.07875 -1.08    -1.08    -1.08\n",
      " -1.08    -1.08    -1.075   -1.06    -1.05    -1.06    -1.06875 -1.07125\n",
      " -1.08    -1.08    -1.08    -1.08         nan      nan      nan      nan\n",
      "      nan      nan      nan      nan      nan      nan -1.05    -1.05\n",
      " -1.1     -1.125   -1.235   -1.325   -1.375   -1.395   -1.335   -1.41\n",
      " -1.10125 -1.04    -1.105   -1.095   -1.06    -1.075   -1.1     -1.09\n",
      " -1.085   -1.05    -1.0875  -1.11    -1.05875 -1.115   -1.125   -1.075\n",
      " -1.06    -1.04    -1.08    -1.07    -1.06375 -1.08875 -1.095   -1.095\n",
      " -1.1     -1.095   -1.1     -1.12    -1.105   -1.1     -1.07125 -1.07625\n",
      " -1.0875  -1.105   -1.09    -1.105   -1.105   -1.085   -1.09    -1.09\n",
      " -1.07    -1.0725  -1.07625 -1.08875 -1.07    -1.085   -1.1     -1.105\n",
      " -1.105   -1.125   -1.05625 -1.0725  -1.06875 -1.09375 -1.1     -1.08\n",
      " -1.105   -1.085   -1.115   -1.095   -1.06625 -1.07625 -1.06375 -1.07875\n",
      " -1.08    -1.1     -1.095   -1.08    -1.08    -1.08    -1.045   -1.055\n",
      " -1.07    -1.06875 -1.08    -1.08    -1.08    -1.08    -1.08    -1.08\n",
      " -1.09    -1.0175  -1.06    -1.05625 -1.08    -1.08    -1.08    -1.08\n",
      " -1.08    -1.08    -1.07    -1.0375  -1.0675  -1.07    -1.07125 -1.08\n",
      " -1.08    -1.08    -1.08    -1.08    -1.06875 -1.05625 -1.055   -1.06125\n",
      " -1.07    -1.08    -1.08    -1.08    -1.08    -1.08    -1.0525  -1.05\n",
      " -1.06125 -1.05    -1.07875 -1.08    -1.08    -1.08    -1.08    -1.08\n",
      "      nan      nan      nan      nan      nan      nan      nan      nan\n",
      "      nan      nan -1.095   -1.1     -1.085   -1.17    -1.255   -1.24\n",
      " -1.345   -1.365   -1.315   -1.42    -1.08    -1.115   -1.025   -1.035\n",
      " -1.125   -1.035   -1.075   -1.105   -1.075   -1.105   -1.0525  -1.13\n",
      " -1.09    -1.09    -1.12    -1.085   -1.125   -1.09    -1.105   -1.105\n",
      " -1.09875 -1.07875 -1.07    -1.09    -1.09    -1.065   -1.075   -1.11\n",
      " -1.055   -1.065   -1.0775  -1.075   -1.08875 -1.095   -1.1     -1.1\n",
      " -1.105   -1.105   -1.09    -1.125   -1.06    -1.0575  -1.08375 -1.09375\n",
      " -1.085   -1.105   -1.1     -1.08    -1.095   -1.085   -1.07125 -1.08125\n",
      " -1.06    -1.085   -1.095   -1.08    -1.08    -1.105   -1.105   -1.11\n",
      " -1.0825  -1.06625 -1.0775  -1.09875 -1.07875 -1.09    -1.1     -1.08\n",
      " -1.095   -1.08    -1.055   -1.05125 -1.05875 -1.07875 -1.08    -1.08\n",
      " -1.08    -1.08    -1.08    -1.095   -1.0875  -1.05    -1.05125 -1.06875\n",
      " -1.07875 -1.08    -1.08    -1.08    -1.08    -1.08    -1.06875 -1.055\n",
      " -1.05625 -1.06    -1.08    -1.07875 -1.08    -1.08    -1.08    -1.08\n",
      " -1.06125 -1.03875 -1.0625  -1.06    -1.0725  -1.08    -1.08    -1.08\n",
      " -1.08    -1.08    -1.065   -1.07625 -1.05125 -1.05375 -1.07875 -1.07125\n",
      " -1.08    -1.08    -1.08    -1.08         nan      nan      nan      nan\n",
      "      nan      nan      nan      nan      nan      nan -1.07    -1.075\n",
      " -1.07    -1.14    -1.27    -1.255   -1.34    -1.415   -1.43    -1.48\n",
      " -1.09125 -1.075   -1.095   -1.075   -1.125   -1.06    -1.04    -1.11\n",
      " -1.055   -1.1     -1.06875 -1.0925  -1.1     -1.095   -1.105   -1.11\n",
      " -1.06    -1.105   -1.1     -1.095   -1.1025  -1.095   -1.075   -1.095\n",
      " -1.1     -1.1     -1.115   -1.07    -1.085   -1.1     -1.0675  -1.1075\n",
      " -1.0925  -1.11    -1.1     -1.085   -1.115   -1.085   -1.1     -1.095\n",
      " -1.08125 -1.075   -1.08    -1.09375 -1.105   -1.09    -1.105   -1.1\n",
      " -1.095   -1.095   -1.07875 -1.09    -1.075   -1.09    -1.09    -1.085\n",
      " -1.095   -1.105   -1.09    -1.085   -1.0675  -1.06875 -1.075   -1.07875\n",
      " -1.08    -1.08    -1.08    -1.08    -1.1     -1.1     -1.0625  -1.0725\n",
      " -1.07875 -1.06125 -1.08    -1.09    -1.08    -1.08    -1.085   -1.08\n",
      " -1.11125 -1.05875 -1.06125 -1.0775  -1.08    -1.08    -1.08    -1.08\n",
      " -1.08    -1.08    -1.05    -1.04875 -1.0675  -1.06875 -1.07875 -1.08\n",
      " -1.095   -1.08    -1.08    -1.08    -1.1     -1.05375 -1.05875 -1.06125\n",
      " -1.06875 -1.08    -1.08    -1.08    -1.08    -1.08    -1.0425  -1.0575\n",
      " -1.05125 -1.05875 -1.07875 -1.07875 -1.08    -1.08    -1.08    -1.08\n",
      "      nan      nan      nan      nan      nan      nan      nan      nan\n",
      "      nan      nan -1.035   -1.045   -1.095   -1.12    -1.155   -1.25\n",
      " -1.27    -1.4     -1.38    -1.47    -1.085   -1.12    -1.105   -1.11\n",
      " -1.08    -1.05    -1.135   -1.05    -1.05    -1.15    -1.0925  -1.09375\n",
      " -1.1     -1.11    -1.135   -1.04    -1.045   -1.105   -1.085   -1.095\n",
      " -1.06375 -1.07625 -1.09375 -1.09    -1.1     -1.105   -1.09    -1.11\n",
      " -1.085   -1.125   -1.05125 -1.08875 -1.1     -1.105   -1.085   -1.09\n",
      " -1.1     -1.105   -1.08    -1.095   -1.04875 -1.08625 -1.08375 -1.075\n",
      " -1.1     -1.09    -1.1     -1.1     -1.1     -1.085   -1.08125 -1.065\n",
      " -1.08375 -1.08375 -1.08    -1.085   -1.1     -1.09    -1.1     -1.11\n",
      " -1.075   -1.04625 -1.0675  -1.07875 -1.07875 -1.085   -1.08    -1.08\n",
      " -1.095   -1.09    -1.0525  -1.0775  -1.07375 -1.07    -1.08    -1.08\n",
      " -1.08    -1.09    -1.08    -1.095   -1.04125 -1.0475  -1.065   -1.07\n",
      " -1.07125 -1.08    -1.08    -1.08    -1.08    -1.08    -1.0675  -1.07\n",
      " -1.06125 -1.06    -1.08    -1.09    -1.08    -1.08    -1.08    -1.08\n",
      " -1.05375 -1.04625 -1.0525  -1.06625 -1.07125 -1.08    -1.08    -1.08\n",
      " -1.08    -1.08    -1.04125 -1.03375 -1.06375 -1.06    -1.08    -1.07875\n",
      " -1.08    -1.08    -1.08    -1.08   ]\n",
      "  warnings.warn(\n"
     ]
    },
    {
     "data": {
      "text/html": [
       "<style>#sk-container-id-39 {color: black;}#sk-container-id-39 pre{padding: 0;}#sk-container-id-39 div.sk-toggleable {background-color: white;}#sk-container-id-39 label.sk-toggleable__label {cursor: pointer;display: block;width: 100%;margin-bottom: 0;padding: 0.3em;box-sizing: border-box;text-align: center;}#sk-container-id-39 label.sk-toggleable__label-arrow:before {content: \"▸\";float: left;margin-right: 0.25em;color: #696969;}#sk-container-id-39 label.sk-toggleable__label-arrow:hover:before {color: black;}#sk-container-id-39 div.sk-estimator:hover label.sk-toggleable__label-arrow:before {color: black;}#sk-container-id-39 div.sk-toggleable__content {max-height: 0;max-width: 0;overflow: hidden;text-align: left;background-color: #f0f8ff;}#sk-container-id-39 div.sk-toggleable__content pre {margin: 0.2em;color: black;border-radius: 0.25em;background-color: #f0f8ff;}#sk-container-id-39 input.sk-toggleable__control:checked~div.sk-toggleable__content {max-height: 200px;max-width: 100%;overflow: auto;}#sk-container-id-39 input.sk-toggleable__control:checked~label.sk-toggleable__label-arrow:before {content: \"▾\";}#sk-container-id-39 div.sk-estimator input.sk-toggleable__control:checked~label.sk-toggleable__label {background-color: #d4ebff;}#sk-container-id-39 div.sk-label input.sk-toggleable__control:checked~label.sk-toggleable__label {background-color: #d4ebff;}#sk-container-id-39 input.sk-hidden--visually {border: 0;clip: rect(1px 1px 1px 1px);clip: rect(1px, 1px, 1px, 1px);height: 1px;margin: -1px;overflow: hidden;padding: 0;position: absolute;width: 1px;}#sk-container-id-39 div.sk-estimator {font-family: monospace;background-color: #f0f8ff;border: 1px dotted black;border-radius: 0.25em;box-sizing: border-box;margin-bottom: 0.5em;}#sk-container-id-39 div.sk-estimator:hover {background-color: #d4ebff;}#sk-container-id-39 div.sk-parallel-item::after {content: \"\";width: 100%;border-bottom: 1px solid gray;flex-grow: 1;}#sk-container-id-39 div.sk-label:hover label.sk-toggleable__label {background-color: #d4ebff;}#sk-container-id-39 div.sk-serial::before {content: \"\";position: absolute;border-left: 1px solid gray;box-sizing: border-box;top: 0;bottom: 0;left: 50%;z-index: 0;}#sk-container-id-39 div.sk-serial {display: flex;flex-direction: column;align-items: center;background-color: white;padding-right: 0.2em;padding-left: 0.2em;position: relative;}#sk-container-id-39 div.sk-item {position: relative;z-index: 1;}#sk-container-id-39 div.sk-parallel {display: flex;align-items: stretch;justify-content: center;background-color: white;position: relative;}#sk-container-id-39 div.sk-item::before, #sk-container-id-39 div.sk-parallel-item::before {content: \"\";position: absolute;border-left: 1px solid gray;box-sizing: border-box;top: 0;bottom: 0;left: 50%;z-index: -1;}#sk-container-id-39 div.sk-parallel-item {display: flex;flex-direction: column;z-index: 1;position: relative;background-color: white;}#sk-container-id-39 div.sk-parallel-item:first-child::after {align-self: flex-end;width: 50%;}#sk-container-id-39 div.sk-parallel-item:last-child::after {align-self: flex-start;width: 50%;}#sk-container-id-39 div.sk-parallel-item:only-child::after {width: 0;}#sk-container-id-39 div.sk-dashed-wrapped {border: 1px dashed gray;margin: 0 0.4em 0.5em 0.4em;box-sizing: border-box;padding-bottom: 0.4em;background-color: white;}#sk-container-id-39 div.sk-label label {font-family: monospace;font-weight: bold;display: inline-block;line-height: 1.2em;}#sk-container-id-39 div.sk-label-container {text-align: center;}#sk-container-id-39 div.sk-container {/* jupyter's `normalize.less` sets `[hidden] { display: none; }` but bootstrap.min.css set `[hidden] { display: none !important; }` so we also need the `!important` here to be able to override the default hidden behavior on the sphinx rendered scikit-learn.org. See: https://github.com/scikit-learn/scikit-learn/issues/21755 */display: inline-block !important;position: relative;}#sk-container-id-39 div.sk-text-repr-fallback {display: none;}</style><div id=\"sk-container-id-39\" class=\"sk-top-container\"><div class=\"sk-text-repr-fallback\"><pre>GridSearchCV(cv=5, estimator=RandomForestClassifier(), n_jobs=-1,\n",
       "             param_grid={&#x27;max_depth&#x27;: [2, 4, 6, 8, 10, 12, 14],\n",
       "                         &#x27;max_features&#x27;: [0, 1, 2, 3, 4, 5, 6, 7, 8, 9, 10, 11,\n",
       "                                          12, 13],\n",
       "                         &#x27;min_samples_leaf&#x27;: [2, 5, 8, 11, 14, 17, 20, 23, 26,\n",
       "                                              29]},\n",
       "             scoring=&#x27;neg_mean_squared_error&#x27;, verbose=2)</pre><b>In a Jupyter environment, please rerun this cell to show the HTML representation or trust the notebook. <br />On GitHub, the HTML representation is unable to render, please try loading this page with nbviewer.org.</b></div><div class=\"sk-container\" hidden><div class=\"sk-item sk-dashed-wrapped\"><div class=\"sk-label-container\"><div class=\"sk-label sk-toggleable\"><input class=\"sk-toggleable__control sk-hidden--visually\" id=\"sk-estimator-id-132\" type=\"checkbox\" ><label for=\"sk-estimator-id-132\" class=\"sk-toggleable__label sk-toggleable__label-arrow\">GridSearchCV</label><div class=\"sk-toggleable__content\"><pre>GridSearchCV(cv=5, estimator=RandomForestClassifier(), n_jobs=-1,\n",
       "             param_grid={&#x27;max_depth&#x27;: [2, 4, 6, 8, 10, 12, 14],\n",
       "                         &#x27;max_features&#x27;: [0, 1, 2, 3, 4, 5, 6, 7, 8, 9, 10, 11,\n",
       "                                          12, 13],\n",
       "                         &#x27;min_samples_leaf&#x27;: [2, 5, 8, 11, 14, 17, 20, 23, 26,\n",
       "                                              29]},\n",
       "             scoring=&#x27;neg_mean_squared_error&#x27;, verbose=2)</pre></div></div></div><div class=\"sk-parallel\"><div class=\"sk-parallel-item\"><div class=\"sk-item\"><div class=\"sk-label-container\"><div class=\"sk-label sk-toggleable\"><input class=\"sk-toggleable__control sk-hidden--visually\" id=\"sk-estimator-id-133\" type=\"checkbox\" ><label for=\"sk-estimator-id-133\" class=\"sk-toggleable__label sk-toggleable__label-arrow\">estimator: RandomForestClassifier</label><div class=\"sk-toggleable__content\"><pre>RandomForestClassifier()</pre></div></div></div><div class=\"sk-serial\"><div class=\"sk-item\"><div class=\"sk-estimator sk-toggleable\"><input class=\"sk-toggleable__control sk-hidden--visually\" id=\"sk-estimator-id-134\" type=\"checkbox\" ><label for=\"sk-estimator-id-134\" class=\"sk-toggleable__label sk-toggleable__label-arrow\">RandomForestClassifier</label><div class=\"sk-toggleable__content\"><pre>RandomForestClassifier()</pre></div></div></div></div></div></div></div></div></div></div>"
      ],
      "text/plain": [
       "GridSearchCV(cv=5, estimator=RandomForestClassifier(), n_jobs=-1,\n",
       "             param_grid={'max_depth': [2, 4, 6, 8, 10, 12, 14],\n",
       "                         'max_features': [0, 1, 2, 3, 4, 5, 6, 7, 8, 9, 10, 11,\n",
       "                                          12, 13],\n",
       "                         'min_samples_leaf': [2, 5, 8, 11, 14, 17, 20, 23, 26,\n",
       "                                              29]},\n",
       "             scoring='neg_mean_squared_error', verbose=2)"
      ]
     },
     "execution_count": 465,
     "metadata": {},
     "output_type": "execute_result"
    }
   ],
   "source": [
    "grid_rfc.fit(X_train,y_train)"
   ]
  },
  {
   "cell_type": "code",
   "execution_count": 466,
   "metadata": {},
   "outputs": [
    {
     "data": {
      "text/plain": [
       "{'max_depth': 6, 'max_features': 2, 'min_samples_leaf': 11}"
      ]
     },
     "execution_count": 466,
     "metadata": {},
     "output_type": "execute_result"
    }
   ],
   "source": [
    "grid_rfc.best_params_\n"
   ]
  },
  {
   "cell_type": "code",
   "execution_count": 467,
   "metadata": {},
   "outputs": [
    {
     "name": "stdout",
     "output_type": "stream",
     "text": [
      "Presición de: 67.0 %\n"
     ]
    }
   ],
   "source": [
    "model = RandomForestClassifier(random_state=21,\n",
    "                                max_depth=14,\n",
    "                                min_samples_leaf = 23,\n",
    "                                max_features = 2)\n",
    "model.fit(X_train, y_train)\n",
    "print(f'Presición de: {model.score(X_test,y_test)*100} %')"
   ]
  },
  {
   "cell_type": "code",
   "execution_count": 468,
   "metadata": {},
   "outputs": [
    {
     "data": {
      "text/html": [
       "<style>#sk-container-id-40 {color: black;}#sk-container-id-40 pre{padding: 0;}#sk-container-id-40 div.sk-toggleable {background-color: white;}#sk-container-id-40 label.sk-toggleable__label {cursor: pointer;display: block;width: 100%;margin-bottom: 0;padding: 0.3em;box-sizing: border-box;text-align: center;}#sk-container-id-40 label.sk-toggleable__label-arrow:before {content: \"▸\";float: left;margin-right: 0.25em;color: #696969;}#sk-container-id-40 label.sk-toggleable__label-arrow:hover:before {color: black;}#sk-container-id-40 div.sk-estimator:hover label.sk-toggleable__label-arrow:before {color: black;}#sk-container-id-40 div.sk-toggleable__content {max-height: 0;max-width: 0;overflow: hidden;text-align: left;background-color: #f0f8ff;}#sk-container-id-40 div.sk-toggleable__content pre {margin: 0.2em;color: black;border-radius: 0.25em;background-color: #f0f8ff;}#sk-container-id-40 input.sk-toggleable__control:checked~div.sk-toggleable__content {max-height: 200px;max-width: 100%;overflow: auto;}#sk-container-id-40 input.sk-toggleable__control:checked~label.sk-toggleable__label-arrow:before {content: \"▾\";}#sk-container-id-40 div.sk-estimator input.sk-toggleable__control:checked~label.sk-toggleable__label {background-color: #d4ebff;}#sk-container-id-40 div.sk-label input.sk-toggleable__control:checked~label.sk-toggleable__label {background-color: #d4ebff;}#sk-container-id-40 input.sk-hidden--visually {border: 0;clip: rect(1px 1px 1px 1px);clip: rect(1px, 1px, 1px, 1px);height: 1px;margin: -1px;overflow: hidden;padding: 0;position: absolute;width: 1px;}#sk-container-id-40 div.sk-estimator {font-family: monospace;background-color: #f0f8ff;border: 1px dotted black;border-radius: 0.25em;box-sizing: border-box;margin-bottom: 0.5em;}#sk-container-id-40 div.sk-estimator:hover {background-color: #d4ebff;}#sk-container-id-40 div.sk-parallel-item::after {content: \"\";width: 100%;border-bottom: 1px solid gray;flex-grow: 1;}#sk-container-id-40 div.sk-label:hover label.sk-toggleable__label {background-color: #d4ebff;}#sk-container-id-40 div.sk-serial::before {content: \"\";position: absolute;border-left: 1px solid gray;box-sizing: border-box;top: 0;bottom: 0;left: 50%;z-index: 0;}#sk-container-id-40 div.sk-serial {display: flex;flex-direction: column;align-items: center;background-color: white;padding-right: 0.2em;padding-left: 0.2em;position: relative;}#sk-container-id-40 div.sk-item {position: relative;z-index: 1;}#sk-container-id-40 div.sk-parallel {display: flex;align-items: stretch;justify-content: center;background-color: white;position: relative;}#sk-container-id-40 div.sk-item::before, #sk-container-id-40 div.sk-parallel-item::before {content: \"\";position: absolute;border-left: 1px solid gray;box-sizing: border-box;top: 0;bottom: 0;left: 50%;z-index: -1;}#sk-container-id-40 div.sk-parallel-item {display: flex;flex-direction: column;z-index: 1;position: relative;background-color: white;}#sk-container-id-40 div.sk-parallel-item:first-child::after {align-self: flex-end;width: 50%;}#sk-container-id-40 div.sk-parallel-item:last-child::after {align-self: flex-start;width: 50%;}#sk-container-id-40 div.sk-parallel-item:only-child::after {width: 0;}#sk-container-id-40 div.sk-dashed-wrapped {border: 1px dashed gray;margin: 0 0.4em 0.5em 0.4em;box-sizing: border-box;padding-bottom: 0.4em;background-color: white;}#sk-container-id-40 div.sk-label label {font-family: monospace;font-weight: bold;display: inline-block;line-height: 1.2em;}#sk-container-id-40 div.sk-label-container {text-align: center;}#sk-container-id-40 div.sk-container {/* jupyter's `normalize.less` sets `[hidden] { display: none; }` but bootstrap.min.css set `[hidden] { display: none !important; }` so we also need the `!important` here to be able to override the default hidden behavior on the sphinx rendered scikit-learn.org. See: https://github.com/scikit-learn/scikit-learn/issues/21755 */display: inline-block !important;position: relative;}#sk-container-id-40 div.sk-text-repr-fallback {display: none;}</style><div id=\"sk-container-id-40\" class=\"sk-top-container\"><div class=\"sk-text-repr-fallback\"><pre>RandomForestClassifier()</pre><b>In a Jupyter environment, please rerun this cell to show the HTML representation or trust the notebook. <br />On GitHub, the HTML representation is unable to render, please try loading this page with nbviewer.org.</b></div><div class=\"sk-container\" hidden><div class=\"sk-item\"><div class=\"sk-estimator sk-toggleable\"><input class=\"sk-toggleable__control sk-hidden--visually\" id=\"sk-estimator-id-135\" type=\"checkbox\" checked><label for=\"sk-estimator-id-135\" class=\"sk-toggleable__label sk-toggleable__label-arrow\">RandomForestClassifier</label><div class=\"sk-toggleable__content\"><pre>RandomForestClassifier()</pre></div></div></div></div></div>"
      ],
      "text/plain": [
       "RandomForestClassifier()"
      ]
     },
     "execution_count": 468,
     "metadata": {},
     "output_type": "execute_result"
    }
   ],
   "source": [
    "# Ajustar el modelo\n",
    "rfc.fit(X_train,y_train)"
   ]
  },
  {
   "cell_type": "code",
   "execution_count": 469,
   "metadata": {},
   "outputs": [
    {
     "data": {
      "text/plain": [
       "array([4, 4, 2, 2, 2, 4, 2, 2, 2, 2, 4, 2, 4, 2, 3, 2, 2, 2, 2, 4, 2, 4,\n",
       "       2, 2, 2, 2, 2, 2, 2, 2, 2, 2, 4, 4, 2, 2, 4, 2, 2, 2, 3, 4, 4, 4,\n",
       "       2, 4, 2, 2, 2, 3, 4, 2, 2, 2, 4, 2, 2, 2, 4, 2, 2, 2, 2, 2, 2, 4,\n",
       "       2, 2, 2, 2, 2, 2, 3, 4, 2, 2, 4, 2, 2, 4, 2, 4, 4, 4, 2, 4, 2, 2,\n",
       "       2, 4, 4, 4, 2, 2, 2, 2, 4, 4, 2, 2, 4, 2, 2, 2, 4, 2, 4, 2, 2, 2,\n",
       "       4, 2, 4, 2, 2, 2, 2, 2, 4, 2, 2, 4, 2, 2, 4, 4, 2, 4, 2, 2, 2, 2,\n",
       "       2, 3, 2, 4, 2, 2, 4, 2, 4, 4, 2, 2, 2, 2, 4, 2, 4, 2, 2, 2, 4, 4,\n",
       "       2, 2, 4, 4, 2, 4, 2, 4, 4, 2, 2, 2, 4, 2, 4, 2, 4, 1, 2, 2, 4, 2,\n",
       "       2, 2, 4, 4, 2, 2, 2, 2, 2, 4, 2, 4, 2, 2, 2, 2, 4, 2, 4, 2, 4, 2,\n",
       "       2, 0])"
      ]
     },
     "execution_count": 469,
     "metadata": {},
     "output_type": "execute_result"
    }
   ],
   "source": [
    "# Predicción\n",
    "y_pred = rfc.predict(X_test)\n",
    "y_pred"
   ]
  },
  {
   "cell_type": "code",
   "execution_count": 470,
   "metadata": {},
   "outputs": [
    {
     "name": "stdout",
     "output_type": "stream",
     "text": [
      "68.5 %\n"
     ]
    }
   ],
   "source": [
    "# Comparación\n",
    "print (np.equal(y_pred, y_test.values).sum() / len(y_pred)*100, '%')"
   ]
  },
  {
   "cell_type": "code",
   "execution_count": 471,
   "metadata": {},
   "outputs": [
    {
     "name": "stdout",
     "output_type": "stream",
     "text": [
      "68.5 %\n"
     ]
    }
   ],
   "source": [
    "# Score\n",
    "print(rfc.score(X_test, y_test) * 100 ,'%')"
   ]
  },
  {
   "cell_type": "markdown",
   "metadata": {},
   "source": [
    "### 6.1 Afinar el modelo"
   ]
  },
  {
   "cell_type": "code",
   "execution_count": 473,
   "metadata": {},
   "outputs": [
    {
     "name": "stdout",
     "output_type": "stream",
     "text": [
      "Presición de: 67.5 %\n"
     ]
    }
   ],
   "source": [
    "model = RandomForestClassifier(random_state=6,\n",
    "                                    max_depth=5,\n",
    "                                    n_estimators = 36)\n",
    "model.fit(X_train, y_train)\n",
    "print(f'Presición de: {model.score(X_test,y_test)*100} %')"
   ]
  },
  {
   "cell_type": "markdown",
   "metadata": {},
   "source": [
    "# LGBMClassifier\n"
   ]
  },
  {
   "cell_type": "code",
   "execution_count": 484,
   "metadata": {},
   "outputs": [
    {
     "name": "stdout",
     "output_type": "stream",
     "text": [
      "[LightGBM] [Info] Auto-choosing row-wise multi-threading, the overhead of testing was 0.000205 seconds.\n",
      "You can set `force_row_wise=true` to remove the overhead.\n",
      "And if memory is not enough, you can set `force_col_wise=true`.\n",
      "[LightGBM] [Info] Total Bins 400\n",
      "[LightGBM] [Info] Number of data points in the train set: 800, number of used features: 20\n",
      "[LightGBM] [Info] Start training from score -3.388775\n",
      "[LightGBM] [Info] Start training from score -3.047026\n",
      "[LightGBM] [Info] Start training from score -0.656333\n",
      "[LightGBM] [Info] Start training from score -2.436116\n",
      "[LightGBM] [Info] Start training from score -1.163151\n",
      "[LightGBM] [Warning] No further splits with positive gain, best gain: -inf\n",
      "[LightGBM] [Warning] No further splits with positive gain, best gain: -inf\n",
      "[LightGBM] [Warning] No further splits with positive gain, best gain: -inf\n",
      "[LightGBM] [Warning] No further splits with positive gain, best gain: -inf\n",
      "[LightGBM] [Warning] No further splits with positive gain, best gain: -inf\n",
      "[LightGBM] [Warning] No further splits with positive gain, best gain: -inf\n",
      "[LightGBM] [Warning] No further splits with positive gain, best gain: -inf\n",
      "[LightGBM] [Warning] No further splits with positive gain, best gain: -inf\n",
      "[LightGBM] [Warning] No further splits with positive gain, best gain: -inf\n",
      "[LightGBM] [Warning] No further splits with positive gain, best gain: -inf\n",
      "[LightGBM] [Warning] No further splits with positive gain, best gain: -inf\n",
      "[LightGBM] [Warning] No further splits with positive gain, best gain: -inf\n",
      "[LightGBM] [Warning] No further splits with positive gain, best gain: -inf\n",
      "[LightGBM] [Warning] No further splits with positive gain, best gain: -inf\n",
      "[LightGBM] [Warning] No further splits with positive gain, best gain: -inf\n",
      "[LightGBM] [Warning] No further splits with positive gain, best gain: -inf\n",
      "[LightGBM] [Warning] No further splits with positive gain, best gain: -inf\n",
      "[LightGBM] [Warning] No further splits with positive gain, best gain: -inf\n",
      "[LightGBM] [Warning] No further splits with positive gain, best gain: -inf\n",
      "[LightGBM] [Warning] No further splits with positive gain, best gain: -inf\n",
      "[LightGBM] [Warning] No further splits with positive gain, best gain: -inf\n",
      "[LightGBM] [Warning] No further splits with positive gain, best gain: -inf\n",
      "[LightGBM] [Warning] No further splits with positive gain, best gain: -inf\n",
      "[LightGBM] [Warning] No further splits with positive gain, best gain: -inf\n",
      "[LightGBM] [Warning] No further splits with positive gain, best gain: -inf\n",
      "[LightGBM] [Warning] No further splits with positive gain, best gain: -inf\n",
      "[LightGBM] [Warning] No further splits with positive gain, best gain: -inf\n",
      "[LightGBM] [Warning] No further splits with positive gain, best gain: -inf\n",
      "[LightGBM] [Warning] No further splits with positive gain, best gain: -inf\n",
      "[LightGBM] [Warning] No further splits with positive gain, best gain: -inf\n",
      "[LightGBM] [Warning] No further splits with positive gain, best gain: -inf\n",
      "[LightGBM] [Warning] No further splits with positive gain, best gain: -inf\n",
      "[LightGBM] [Warning] No further splits with positive gain, best gain: -inf\n",
      "[LightGBM] [Warning] No further splits with positive gain, best gain: -inf\n",
      "[LightGBM] [Warning] No further splits with positive gain, best gain: -inf\n",
      "[LightGBM] [Warning] No further splits with positive gain, best gain: -inf\n",
      "[LightGBM] [Warning] No further splits with positive gain, best gain: -inf\n",
      "[LightGBM] [Warning] No further splits with positive gain, best gain: -inf\n",
      "[LightGBM] [Warning] No further splits with positive gain, best gain: -inf\n",
      "[LightGBM] [Warning] No further splits with positive gain, best gain: -inf\n",
      "[LightGBM] [Warning] No further splits with positive gain, best gain: -inf\n",
      "[LightGBM] [Warning] No further splits with positive gain, best gain: -inf\n",
      "[LightGBM] [Warning] No further splits with positive gain, best gain: -inf\n",
      "[LightGBM] [Warning] No further splits with positive gain, best gain: -inf\n",
      "[LightGBM] [Warning] No further splits with positive gain, best gain: -inf\n",
      "[LightGBM] [Warning] No further splits with positive gain, best gain: -inf\n"
     ]
    },
    {
     "data": {
      "text/html": [
       "<style>#sk-container-id-42 {color: black;}#sk-container-id-42 pre{padding: 0;}#sk-container-id-42 div.sk-toggleable {background-color: white;}#sk-container-id-42 label.sk-toggleable__label {cursor: pointer;display: block;width: 100%;margin-bottom: 0;padding: 0.3em;box-sizing: border-box;text-align: center;}#sk-container-id-42 label.sk-toggleable__label-arrow:before {content: \"▸\";float: left;margin-right: 0.25em;color: #696969;}#sk-container-id-42 label.sk-toggleable__label-arrow:hover:before {color: black;}#sk-container-id-42 div.sk-estimator:hover label.sk-toggleable__label-arrow:before {color: black;}#sk-container-id-42 div.sk-toggleable__content {max-height: 0;max-width: 0;overflow: hidden;text-align: left;background-color: #f0f8ff;}#sk-container-id-42 div.sk-toggleable__content pre {margin: 0.2em;color: black;border-radius: 0.25em;background-color: #f0f8ff;}#sk-container-id-42 input.sk-toggleable__control:checked~div.sk-toggleable__content {max-height: 200px;max-width: 100%;overflow: auto;}#sk-container-id-42 input.sk-toggleable__control:checked~label.sk-toggleable__label-arrow:before {content: \"▾\";}#sk-container-id-42 div.sk-estimator input.sk-toggleable__control:checked~label.sk-toggleable__label {background-color: #d4ebff;}#sk-container-id-42 div.sk-label input.sk-toggleable__control:checked~label.sk-toggleable__label {background-color: #d4ebff;}#sk-container-id-42 input.sk-hidden--visually {border: 0;clip: rect(1px 1px 1px 1px);clip: rect(1px, 1px, 1px, 1px);height: 1px;margin: -1px;overflow: hidden;padding: 0;position: absolute;width: 1px;}#sk-container-id-42 div.sk-estimator {font-family: monospace;background-color: #f0f8ff;border: 1px dotted black;border-radius: 0.25em;box-sizing: border-box;margin-bottom: 0.5em;}#sk-container-id-42 div.sk-estimator:hover {background-color: #d4ebff;}#sk-container-id-42 div.sk-parallel-item::after {content: \"\";width: 100%;border-bottom: 1px solid gray;flex-grow: 1;}#sk-container-id-42 div.sk-label:hover label.sk-toggleable__label {background-color: #d4ebff;}#sk-container-id-42 div.sk-serial::before {content: \"\";position: absolute;border-left: 1px solid gray;box-sizing: border-box;top: 0;bottom: 0;left: 50%;z-index: 0;}#sk-container-id-42 div.sk-serial {display: flex;flex-direction: column;align-items: center;background-color: white;padding-right: 0.2em;padding-left: 0.2em;position: relative;}#sk-container-id-42 div.sk-item {position: relative;z-index: 1;}#sk-container-id-42 div.sk-parallel {display: flex;align-items: stretch;justify-content: center;background-color: white;position: relative;}#sk-container-id-42 div.sk-item::before, #sk-container-id-42 div.sk-parallel-item::before {content: \"\";position: absolute;border-left: 1px solid gray;box-sizing: border-box;top: 0;bottom: 0;left: 50%;z-index: -1;}#sk-container-id-42 div.sk-parallel-item {display: flex;flex-direction: column;z-index: 1;position: relative;background-color: white;}#sk-container-id-42 div.sk-parallel-item:first-child::after {align-self: flex-end;width: 50%;}#sk-container-id-42 div.sk-parallel-item:last-child::after {align-self: flex-start;width: 50%;}#sk-container-id-42 div.sk-parallel-item:only-child::after {width: 0;}#sk-container-id-42 div.sk-dashed-wrapped {border: 1px dashed gray;margin: 0 0.4em 0.5em 0.4em;box-sizing: border-box;padding-bottom: 0.4em;background-color: white;}#sk-container-id-42 div.sk-label label {font-family: monospace;font-weight: bold;display: inline-block;line-height: 1.2em;}#sk-container-id-42 div.sk-label-container {text-align: center;}#sk-container-id-42 div.sk-container {/* jupyter's `normalize.less` sets `[hidden] { display: none; }` but bootstrap.min.css set `[hidden] { display: none !important; }` so we also need the `!important` here to be able to override the default hidden behavior on the sphinx rendered scikit-learn.org. See: https://github.com/scikit-learn/scikit-learn/issues/21755 */display: inline-block !important;position: relative;}#sk-container-id-42 div.sk-text-repr-fallback {display: none;}</style><div id=\"sk-container-id-42\" class=\"sk-top-container\"><div class=\"sk-text-repr-fallback\"><pre>LGBMClassifier()</pre><b>In a Jupyter environment, please rerun this cell to show the HTML representation or trust the notebook. <br />On GitHub, the HTML representation is unable to render, please try loading this page with nbviewer.org.</b></div><div class=\"sk-container\" hidden><div class=\"sk-item\"><div class=\"sk-estimator sk-toggleable\"><input class=\"sk-toggleable__control sk-hidden--visually\" id=\"sk-estimator-id-137\" type=\"checkbox\" checked><label for=\"sk-estimator-id-137\" class=\"sk-toggleable__label sk-toggleable__label-arrow\">LGBMClassifier</label><div class=\"sk-toggleable__content\"><pre>LGBMClassifier()</pre></div></div></div></div></div>"
      ],
      "text/plain": [
       "LGBMClassifier()"
      ]
     },
     "execution_count": 484,
     "metadata": {},
     "output_type": "execute_result"
    }
   ],
   "source": [
    "# ignore warnings\n",
    "import warnings\n",
    "warnings.filterwarnings(\"ignore\")\n",
    "import lightgbm as lgb\n",
    "clf = lgb.LGBMClassifier()\n",
    "clf.fit(X_train, y_train)"
   ]
  },
  {
   "cell_type": "code",
   "execution_count": 485,
   "metadata": {},
   "outputs": [],
   "source": [
    "y_pred=clf.predict(X_test)"
   ]
  },
  {
   "cell_type": "code",
   "execution_count": 486,
   "metadata": {},
   "outputs": [
    {
     "name": "stdout",
     "output_type": "stream",
     "text": [
      "LightGBM Model accuracy score: 0.6500\n"
     ]
    }
   ],
   "source": [
    "# view accuracy\n",
    "from sklearn.metrics import accuracy_score\n",
    "accuracy=accuracy_score(y_pred, y_test)\n",
    "print('LightGBM Model accuracy score: {0:0.4f}'.format(accuracy_score(y_test, y_pred)))"
   ]
  },
  {
   "cell_type": "code",
   "execution_count": 487,
   "metadata": {},
   "outputs": [],
   "source": [
    "y_pred_train = clf.predict(X_train)"
   ]
  },
  {
   "cell_type": "code",
   "execution_count": 491,
   "metadata": {},
   "outputs": [
    {
     "name": "stdout",
     "output_type": "stream",
     "text": [
      "Training set score: 1.0000\n",
      "Test set score: 0.6500\n"
     ]
    }
   ],
   "source": [
    "print('Training set score: {:.4f}'.format(clf.score(X_train, y_train)))\n",
    "\n",
    "print('Test set score: {:.4f}'.format(clf.score(X_test, y_test)))"
   ]
  },
  {
   "cell_type": "code",
   "execution_count": 493,
   "metadata": {},
   "outputs": [
    {
     "name": "stdout",
     "output_type": "stream",
     "text": [
      "Confusion matrix\n",
      "\n",
      " [[ 1  0  2  3  7]\n",
      " [ 0  1  7  1  2]\n",
      " [ 0  1 99  2 13]\n",
      " [ 1  0  5  1 11]\n",
      " [ 0  0 12  3 28]]\n",
      "\n",
      "True Positives(TP) =  1\n",
      "\n",
      "True Negatives(TN) =  1\n",
      "\n",
      "False Positives(FP) =  0\n",
      "\n",
      "False Negatives(FN) =  0\n"
     ]
    }
   ],
   "source": [
    "\n",
    "from sklearn.metrics import confusion_matrix\n",
    "cm = confusion_matrix(y_test, y_pred)\n",
    "print('Confusion matrix\\n\\n', cm)\n",
    "print('\\nTrue Positives(TP) = ', cm[0,0])\n",
    "print('\\nTrue Negatives(TN) = ', cm[1,1])\n",
    "print('\\nFalse Positives(FP) = ', cm[0,1])\n",
    "print('\\nFalse Negatives(FN) = ', cm[1,0])"
   ]
  },
  {
   "cell_type": "code",
   "execution_count": 494,
   "metadata": {},
   "outputs": [
    {
     "name": "stdout",
     "output_type": "stream",
     "text": [
      "              precision    recall  f1-score   support\n",
      "\n",
      "           0       0.50      0.08      0.13        13\n",
      "           1       0.50      0.09      0.15        11\n",
      "           2       0.79      0.86      0.82       115\n",
      "           3       0.10      0.06      0.07        18\n",
      "           4       0.46      0.65      0.54        43\n",
      "\n",
      "    accuracy                           0.65       200\n",
      "   macro avg       0.47      0.35      0.34       200\n",
      "weighted avg       0.62      0.65      0.61       200\n",
      "\n"
     ]
    }
   ],
   "source": [
    "from sklearn.metrics import classification_report\n",
    "print(classification_report(y_test, y_pred))"
   ]
  }
 ],
 "metadata": {
  "kernelspec": {
   "display_name": "Python 3",
   "language": "python",
   "name": "python3"
  },
  "language_info": {
   "codemirror_mode": {
    "name": "ipython",
    "version": 3
   },
   "file_extension": ".py",
   "mimetype": "text/x-python",
   "name": "python",
   "nbconvert_exporter": "python",
   "pygments_lexer": "ipython3",
   "version": "3.11.1"
  }
 },
 "nbformat": 4,
 "nbformat_minor": 2
}
